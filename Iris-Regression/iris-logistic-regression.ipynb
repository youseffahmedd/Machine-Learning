{
 "cells": [
  {
   "cell_type": "markdown",
   "id": "6f3f1841",
   "metadata": {
    "papermill": {
     "duration": 0.008283,
     "end_time": "2024-04-24T14:08:58.845467",
     "exception": false,
     "start_time": "2024-04-24T14:08:58.837184",
     "status": "completed"
    },
    "tags": []
   },
   "source": [
    "# Import needed libraries"
   ]
  },
  {
   "cell_type": "code",
   "execution_count": 1,
   "id": "f8992b82",
   "metadata": {
    "execution": {
     "iopub.execute_input": "2024-04-24T14:08:58.863131Z",
     "iopub.status.busy": "2024-04-24T14:08:58.862718Z",
     "iopub.status.idle": "2024-04-24T14:09:01.251347Z",
     "shell.execute_reply": "2024-04-24T14:09:01.249945Z"
    },
    "papermill": {
     "duration": 2.400665,
     "end_time": "2024-04-24T14:09:01.254154",
     "exception": false,
     "start_time": "2024-04-24T14:08:58.853489",
     "status": "completed"
    },
    "tags": []
   },
   "outputs": [],
   "source": [
    "import pandas as pd \n",
    "import numpy as np\n",
    "import matplotlib.pyplot as plt\n",
    "from sklearn.linear_model import LogisticRegression\n",
    "from sklearn.model_selection import train_test_split\n",
    "from sklearn.preprocessing import LabelEncoder\n",
    "from sklearn.metrics import accuracy_score\n",
    "import warnings\n",
    "warnings.filterwarnings('ignore')"
   ]
  },
  {
   "cell_type": "markdown",
   "id": "7b4e9fc6",
   "metadata": {
    "papermill": {
     "duration": 0.007437,
     "end_time": "2024-04-24T14:09:01.269666",
     "exception": false,
     "start_time": "2024-04-24T14:09:01.262229",
     "status": "completed"
    },
    "tags": []
   },
   "source": [
    "# Loading the Data"
   ]
  },
  {
   "cell_type": "code",
   "execution_count": 2,
   "id": "d72920e7",
   "metadata": {
    "execution": {
     "iopub.execute_input": "2024-04-24T14:09:01.287839Z",
     "iopub.status.busy": "2024-04-24T14:09:01.286813Z",
     "iopub.status.idle": "2024-04-24T14:09:01.316647Z",
     "shell.execute_reply": "2024-04-24T14:09:01.315282Z"
    },
    "papermill": {
     "duration": 0.042184,
     "end_time": "2024-04-24T14:09:01.319600",
     "exception": false,
     "start_time": "2024-04-24T14:09:01.277416",
     "status": "completed"
    },
    "tags": []
   },
   "outputs": [],
   "source": [
    "df = pd.read_csv('/kaggle/input/iris-flower-dataset/IRIS.csv')"
   ]
  },
  {
   "cell_type": "markdown",
   "id": "f4164044",
   "metadata": {
    "papermill": {
     "duration": 0.00756,
     "end_time": "2024-04-24T14:09:01.335051",
     "exception": false,
     "start_time": "2024-04-24T14:09:01.327491",
     "status": "completed"
    },
    "tags": []
   },
   "source": [
    "# Exploring the Data"
   ]
  },
  {
   "cell_type": "code",
   "execution_count": 3,
   "id": "6dca7b19",
   "metadata": {
    "execution": {
     "iopub.execute_input": "2024-04-24T14:09:01.352733Z",
     "iopub.status.busy": "2024-04-24T14:09:01.352275Z",
     "iopub.status.idle": "2024-04-24T14:09:01.381104Z",
     "shell.execute_reply": "2024-04-24T14:09:01.379810Z"
    },
    "papermill": {
     "duration": 0.041004,
     "end_time": "2024-04-24T14:09:01.384034",
     "exception": false,
     "start_time": "2024-04-24T14:09:01.343030",
     "status": "completed"
    },
    "tags": []
   },
   "outputs": [
    {
     "data": {
      "text/html": [
       "<div>\n",
       "<style scoped>\n",
       "    .dataframe tbody tr th:only-of-type {\n",
       "        vertical-align: middle;\n",
       "    }\n",
       "\n",
       "    .dataframe tbody tr th {\n",
       "        vertical-align: top;\n",
       "    }\n",
       "\n",
       "    .dataframe thead th {\n",
       "        text-align: right;\n",
       "    }\n",
       "</style>\n",
       "<table border=\"1\" class=\"dataframe\">\n",
       "  <thead>\n",
       "    <tr style=\"text-align: right;\">\n",
       "      <th></th>\n",
       "      <th>sepal_length</th>\n",
       "      <th>sepal_width</th>\n",
       "      <th>petal_length</th>\n",
       "      <th>petal_width</th>\n",
       "      <th>species</th>\n",
       "    </tr>\n",
       "  </thead>\n",
       "  <tbody>\n",
       "    <tr>\n",
       "      <th>0</th>\n",
       "      <td>5.1</td>\n",
       "      <td>3.5</td>\n",
       "      <td>1.4</td>\n",
       "      <td>0.2</td>\n",
       "      <td>Iris-setosa</td>\n",
       "    </tr>\n",
       "    <tr>\n",
       "      <th>1</th>\n",
       "      <td>4.9</td>\n",
       "      <td>3.0</td>\n",
       "      <td>1.4</td>\n",
       "      <td>0.2</td>\n",
       "      <td>Iris-setosa</td>\n",
       "    </tr>\n",
       "    <tr>\n",
       "      <th>2</th>\n",
       "      <td>4.7</td>\n",
       "      <td>3.2</td>\n",
       "      <td>1.3</td>\n",
       "      <td>0.2</td>\n",
       "      <td>Iris-setosa</td>\n",
       "    </tr>\n",
       "    <tr>\n",
       "      <th>3</th>\n",
       "      <td>4.6</td>\n",
       "      <td>3.1</td>\n",
       "      <td>1.5</td>\n",
       "      <td>0.2</td>\n",
       "      <td>Iris-setosa</td>\n",
       "    </tr>\n",
       "    <tr>\n",
       "      <th>4</th>\n",
       "      <td>5.0</td>\n",
       "      <td>3.6</td>\n",
       "      <td>1.4</td>\n",
       "      <td>0.2</td>\n",
       "      <td>Iris-setosa</td>\n",
       "    </tr>\n",
       "  </tbody>\n",
       "</table>\n",
       "</div>"
      ],
      "text/plain": [
       "   sepal_length  sepal_width  petal_length  petal_width      species\n",
       "0           5.1          3.5           1.4          0.2  Iris-setosa\n",
       "1           4.9          3.0           1.4          0.2  Iris-setosa\n",
       "2           4.7          3.2           1.3          0.2  Iris-setosa\n",
       "3           4.6          3.1           1.5          0.2  Iris-setosa\n",
       "4           5.0          3.6           1.4          0.2  Iris-setosa"
      ]
     },
     "execution_count": 3,
     "metadata": {},
     "output_type": "execute_result"
    }
   ],
   "source": [
    "df.head()"
   ]
  },
  {
   "cell_type": "code",
   "execution_count": 4,
   "id": "cf8c956c",
   "metadata": {
    "execution": {
     "iopub.execute_input": "2024-04-24T14:09:01.403765Z",
     "iopub.status.busy": "2024-04-24T14:09:01.402540Z",
     "iopub.status.idle": "2024-04-24T14:09:01.418543Z",
     "shell.execute_reply": "2024-04-24T14:09:01.417014Z"
    },
    "papermill": {
     "duration": 0.028717,
     "end_time": "2024-04-24T14:09:01.421091",
     "exception": false,
     "start_time": "2024-04-24T14:09:01.392374",
     "status": "completed"
    },
    "tags": []
   },
   "outputs": [
    {
     "data": {
      "text/plain": [
       "3"
      ]
     },
     "execution_count": 4,
     "metadata": {},
     "output_type": "execute_result"
    }
   ],
   "source": [
    "df.duplicated().sum()"
   ]
  },
  {
   "cell_type": "code",
   "execution_count": 5,
   "id": "f9b936b3",
   "metadata": {
    "execution": {
     "iopub.execute_input": "2024-04-24T14:09:01.439878Z",
     "iopub.status.busy": "2024-04-24T14:09:01.439419Z",
     "iopub.status.idle": "2024-04-24T14:09:01.449865Z",
     "shell.execute_reply": "2024-04-24T14:09:01.448424Z"
    },
    "papermill": {
     "duration": 0.02308,
     "end_time": "2024-04-24T14:09:01.452825",
     "exception": false,
     "start_time": "2024-04-24T14:09:01.429745",
     "status": "completed"
    },
    "tags": []
   },
   "outputs": [
    {
     "data": {
      "text/plain": [
       "sepal_length    0\n",
       "sepal_width     0\n",
       "petal_length    0\n",
       "petal_width     0\n",
       "species         0\n",
       "dtype: int64"
      ]
     },
     "execution_count": 5,
     "metadata": {},
     "output_type": "execute_result"
    }
   ],
   "source": [
    "df.isnull().sum()"
   ]
  },
  {
   "cell_type": "code",
   "execution_count": 6,
   "id": "abc95844",
   "metadata": {
    "execution": {
     "iopub.execute_input": "2024-04-24T14:09:01.473072Z",
     "iopub.status.busy": "2024-04-24T14:09:01.472011Z",
     "iopub.status.idle": "2024-04-24T14:09:01.486508Z",
     "shell.execute_reply": "2024-04-24T14:09:01.485226Z"
    },
    "papermill": {
     "duration": 0.028293,
     "end_time": "2024-04-24T14:09:01.489772",
     "exception": false,
     "start_time": "2024-04-24T14:09:01.461479",
     "status": "completed"
    },
    "tags": []
   },
   "outputs": [],
   "source": [
    "df.drop_duplicates(inplace= True)"
   ]
  },
  {
   "cell_type": "code",
   "execution_count": 7,
   "id": "e16f82ac",
   "metadata": {
    "execution": {
     "iopub.execute_input": "2024-04-24T14:09:01.510546Z",
     "iopub.status.busy": "2024-04-24T14:09:01.509515Z",
     "iopub.status.idle": "2024-04-24T14:09:01.530758Z",
     "shell.execute_reply": "2024-04-24T14:09:01.529411Z"
    },
    "papermill": {
     "duration": 0.035682,
     "end_time": "2024-04-24T14:09:01.534193",
     "exception": false,
     "start_time": "2024-04-24T14:09:01.498511",
     "status": "completed"
    },
    "tags": []
   },
   "outputs": [
    {
     "name": "stdout",
     "output_type": "stream",
     "text": [
      "<class 'pandas.core.frame.DataFrame'>\n",
      "Index: 147 entries, 0 to 149\n",
      "Data columns (total 5 columns):\n",
      " #   Column        Non-Null Count  Dtype  \n",
      "---  ------        --------------  -----  \n",
      " 0   sepal_length  147 non-null    float64\n",
      " 1   sepal_width   147 non-null    float64\n",
      " 2   petal_length  147 non-null    float64\n",
      " 3   petal_width   147 non-null    float64\n",
      " 4   species       147 non-null    object \n",
      "dtypes: float64(4), object(1)\n",
      "memory usage: 6.9+ KB\n"
     ]
    }
   ],
   "source": [
    "df.info()"
   ]
  },
  {
   "cell_type": "markdown",
   "id": "23adc64f",
   "metadata": {
    "papermill": {
     "duration": 0.008312,
     "end_time": "2024-04-24T14:09:01.551187",
     "exception": false,
     "start_time": "2024-04-24T14:09:01.542875",
     "status": "completed"
    },
    "tags": []
   },
   "source": [
    "# Visualization"
   ]
  },
  {
   "cell_type": "code",
   "execution_count": 8,
   "id": "022f3045",
   "metadata": {
    "execution": {
     "iopub.execute_input": "2024-04-24T14:09:01.570252Z",
     "iopub.status.busy": "2024-04-24T14:09:01.569787Z",
     "iopub.status.idle": "2024-04-24T14:09:02.047460Z",
     "shell.execute_reply": "2024-04-24T14:09:02.045990Z"
    },
    "papermill": {
     "duration": 0.490603,
     "end_time": "2024-04-24T14:09:02.050434",
     "exception": false,
     "start_time": "2024-04-24T14:09:01.559831",
     "status": "completed"
    },
    "tags": []
   },
   "outputs": [
    {
     "data": {
      "image/png": "[encoded data removed]",
      "text/plain": [
       "<Figure size 800x600 with 1 Axes>"
      ]
     },
     "metadata": {},
     "output_type": "display_data"
    }
   ],
   "source": [
    "plt.figure(figsize=(8,6))\n",
    "plt.scatter(df['sepal_length'] ,df['sepal_width'])\n",
    "plt.title('Sepal Length & Sepal Width')\n",
    "plt.xlabel('Sepal Length')\n",
    "plt.ylabel('Sepal Width')\n",
    "plt.show()"
   ]
  },
  {
   "cell_type": "code",
   "execution_count": 9,
   "id": "8d1de635",
   "metadata": {
    "execution": {
     "iopub.execute_input": "2024-04-24T14:09:02.072950Z",
     "iopub.status.busy": "2024-04-24T14:09:02.072472Z",
     "iopub.status.idle": "2024-04-24T14:09:02.411880Z",
     "shell.execute_reply": "2024-04-24T14:09:02.410615Z"
    },
    "papermill": {
     "duration": 0.354491,
     "end_time": "2024-04-24T14:09:02.414657",
     "exception": false,
     "start_time": "2024-04-24T14:09:02.060166",
     "status": "completed"
    },
    "tags": []
   },
   "outputs": [
    {
     "data": {
      "image/png": "[encoded data removed]",
      "text/plain": [
       "<Figure size 800x600 with 1 Axes>"
      ]
     },
     "metadata": {},
     "output_type": "display_data"
    }
   ],
   "source": [
    "plt.figure(figsize=(8,6))\n",
    "plt.scatter(df['petal_length'] ,df['petal_width'])\n",
    "plt.title('Petal Length & Petal Width')\n",
    "plt.xlabel('Petal Length')\n",
    "plt.ylabel('Petal Width')\n",
    "plt.show()"
   ]
  },
  {
   "cell_type": "markdown",
   "id": "2582f816",
   "metadata": {
    "papermill": {
     "duration": 0.00981,
     "end_time": "2024-04-24T14:09:02.434157",
     "exception": false,
     "start_time": "2024-04-24T14:09:02.424347",
     "status": "completed"
    },
    "tags": []
   },
   "source": [
    "# Buliding the Model"
   ]
  },
  {
   "cell_type": "code",
   "execution_count": 10,
   "id": "dcade02c",
   "metadata": {
    "execution": {
     "iopub.execute_input": "2024-04-24T14:09:02.456797Z",
     "iopub.status.busy": "2024-04-24T14:09:02.455758Z",
     "iopub.status.idle": "2024-04-24T14:09:02.462084Z",
     "shell.execute_reply": "2024-04-24T14:09:02.460793Z"
    },
    "papermill": {
     "duration": 0.020544,
     "end_time": "2024-04-24T14:09:02.464547",
     "exception": false,
     "start_time": "2024-04-24T14:09:02.444003",
     "status": "completed"
    },
    "tags": []
   },
   "outputs": [],
   "source": [
    "le = LabelEncoder()\n",
    "df['species'] = le.fit_transform(df['species'])"
   ]
  },
  {
   "cell_type": "code",
   "execution_count": 11,
   "id": "41b723e3",
   "metadata": {
    "execution": {
     "iopub.execute_input": "2024-04-24T14:09:02.485596Z",
     "iopub.status.busy": "2024-04-24T14:09:02.485177Z",
     "iopub.status.idle": "2024-04-24T14:09:02.506591Z",
     "shell.execute_reply": "2024-04-24T14:09:02.505381Z"
    },
    "papermill": {
     "duration": 0.034775,
     "end_time": "2024-04-24T14:09:02.509003",
     "exception": false,
     "start_time": "2024-04-24T14:09:02.474228",
     "status": "completed"
    },
    "tags": []
   },
   "outputs": [
    {
     "data": {
      "text/html": [
       "<div>\n",
       "<style scoped>\n",
       "    .dataframe tbody tr th:only-of-type {\n",
       "        vertical-align: middle;\n",
       "    }\n",
       "\n",
       "    .dataframe tbody tr th {\n",
       "        vertical-align: top;\n",
       "    }\n",
       "\n",
       "    .dataframe thead th {\n",
       "        text-align: right;\n",
       "    }\n",
       "</style>\n",
       "<table border=\"1\" class=\"dataframe\">\n",
       "  <thead>\n",
       "    <tr style=\"text-align: right;\">\n",
       "      <th></th>\n",
       "      <th>sepal_length</th>\n",
       "      <th>sepal_width</th>\n",
       "      <th>petal_length</th>\n",
       "      <th>petal_width</th>\n",
       "      <th>species</th>\n",
       "    </tr>\n",
       "  </thead>\n",
       "  <tbody>\n",
       "    <tr>\n",
       "      <th>0</th>\n",
       "      <td>5.1</td>\n",
       "      <td>3.5</td>\n",
       "      <td>1.4</td>\n",
       "      <td>0.2</td>\n",
       "      <td>0</td>\n",
       "    </tr>\n",
       "    <tr>\n",
       "      <th>1</th>\n",
       "      <td>4.9</td>\n",
       "      <td>3.0</td>\n",
       "      <td>1.4</td>\n",
       "      <td>0.2</td>\n",
       "      <td>0</td>\n",
       "    </tr>\n",
       "    <tr>\n",
       "      <th>2</th>\n",
       "      <td>4.7</td>\n",
       "      <td>3.2</td>\n",
       "      <td>1.3</td>\n",
       "      <td>0.2</td>\n",
       "      <td>0</td>\n",
       "    </tr>\n",
       "    <tr>\n",
       "      <th>3</th>\n",
       "      <td>4.6</td>\n",
       "      <td>3.1</td>\n",
       "      <td>1.5</td>\n",
       "      <td>0.2</td>\n",
       "      <td>0</td>\n",
       "    </tr>\n",
       "    <tr>\n",
       "      <th>4</th>\n",
       "      <td>5.0</td>\n",
       "      <td>3.6</td>\n",
       "      <td>1.4</td>\n",
       "      <td>0.2</td>\n",
       "      <td>0</td>\n",
       "    </tr>\n",
       "    <tr>\n",
       "      <th>...</th>\n",
       "      <td>...</td>\n",
       "      <td>...</td>\n",
       "      <td>...</td>\n",
       "      <td>...</td>\n",
       "      <td>...</td>\n",
       "    </tr>\n",
       "    <tr>\n",
       "      <th>145</th>\n",
       "      <td>6.7</td>\n",
       "      <td>3.0</td>\n",
       "      <td>5.2</td>\n",
       "      <td>2.3</td>\n",
       "      <td>2</td>\n",
       "    </tr>\n",
       "    <tr>\n",
       "      <th>146</th>\n",
       "      <td>6.3</td>\n",
       "      <td>2.5</td>\n",
       "      <td>5.0</td>\n",
       "      <td>1.9</td>\n",
       "      <td>2</td>\n",
       "    </tr>\n",
       "    <tr>\n",
       "      <th>147</th>\n",
       "      <td>6.5</td>\n",
       "      <td>3.0</td>\n",
       "      <td>5.2</td>\n",
       "      <td>2.0</td>\n",
       "      <td>2</td>\n",
       "    </tr>\n",
       "    <tr>\n",
       "      <th>148</th>\n",
       "      <td>6.2</td>\n",
       "      <td>3.4</td>\n",
       "      <td>5.4</td>\n",
       "      <td>2.3</td>\n",
       "      <td>2</td>\n",
       "    </tr>\n",
       "    <tr>\n",
       "      <th>149</th>\n",
       "      <td>5.9</td>\n",
       "      <td>3.0</td>\n",
       "      <td>5.1</td>\n",
       "      <td>1.8</td>\n",
       "      <td>2</td>\n",
       "    </tr>\n",
       "  </tbody>\n",
       "</table>\n",
       "<p>147 rows × 5 columns</p>\n",
       "</div>"
      ],
      "text/plain": [
       "     sepal_length  sepal_width  petal_length  petal_width  species\n",
       "0             5.1          3.5           1.4          0.2        0\n",
       "1             4.9          3.0           1.4          0.2        0\n",
       "2             4.7          3.2           1.3          0.2        0\n",
       "3             4.6          3.1           1.5          0.2        0\n",
       "4             5.0          3.6           1.4          0.2        0\n",
       "..            ...          ...           ...          ...      ...\n",
       "145           6.7          3.0           5.2          2.3        2\n",
       "146           6.3          2.5           5.0          1.9        2\n",
       "147           6.5          3.0           5.2          2.0        2\n",
       "148           6.2          3.4           5.4          2.3        2\n",
       "149           5.9          3.0           5.1          1.8        2\n",
       "\n",
       "[147 rows x 5 columns]"
      ]
     },
     "execution_count": 11,
     "metadata": {},
     "output_type": "execute_result"
    }
   ],
   "source": [
    "df"
   ]
  },
  {
   "cell_type": "code",
   "execution_count": 12,
   "id": "ac81b43c",
   "metadata": {
    "execution": {
     "iopub.execute_input": "2024-04-24T14:09:02.533012Z",
     "iopub.status.busy": "2024-04-24T14:09:02.532577Z",
     "iopub.status.idle": "2024-04-24T14:09:02.539628Z",
     "shell.execute_reply": "2024-04-24T14:09:02.538287Z"
    },
    "papermill": {
     "duration": 0.022767,
     "end_time": "2024-04-24T14:09:02.542350",
     "exception": false,
     "start_time": "2024-04-24T14:09:02.519583",
     "status": "completed"
    },
    "tags": []
   },
   "outputs": [],
   "source": [
    "x = df.drop('species', axis=1)\n",
    "y = df['species']"
   ]
  },
  {
   "cell_type": "code",
   "execution_count": 13,
   "id": "4f358f35",
   "metadata": {
    "execution": {
     "iopub.execute_input": "2024-04-24T14:09:02.564689Z",
     "iopub.status.busy": "2024-04-24T14:09:02.564234Z",
     "iopub.status.idle": "2024-04-24T14:09:02.573492Z",
     "shell.execute_reply": "2024-04-24T14:09:02.572157Z"
    },
    "papermill": {
     "duration": 0.023058,
     "end_time": "2024-04-24T14:09:02.575902",
     "exception": false,
     "start_time": "2024-04-24T14:09:02.552844",
     "status": "completed"
    },
    "tags": []
   },
   "outputs": [],
   "source": [
    "X_train , X_test , Y_train ,Y_test = train_test_split(x ,y, test_size=0.2, random_state=11)"
   ]
  },
  {
   "cell_type": "code",
   "execution_count": 14,
   "id": "801bca7b",
   "metadata": {
    "execution": {
     "iopub.execute_input": "2024-04-24T14:09:02.598457Z",
     "iopub.status.busy": "2024-04-24T14:09:02.598013Z",
     "iopub.status.idle": "2024-04-24T14:09:02.603421Z",
     "shell.execute_reply": "2024-04-24T14:09:02.602272Z"
    },
    "papermill": {
     "duration": 0.019234,
     "end_time": "2024-04-24T14:09:02.605963",
     "exception": false,
     "start_time": "2024-04-24T14:09:02.586729",
     "status": "completed"
    },
    "tags": []
   },
   "outputs": [],
   "source": [
    "model = LogisticRegression(max_iter=10)"
   ]
  },
  {
   "cell_type": "code",
   "execution_count": 15,
   "id": "f1d6d73e",
   "metadata": {
    "execution": {
     "iopub.execute_input": "2024-04-24T14:09:02.628511Z",
     "iopub.status.busy": "2024-04-24T14:09:02.628076Z",
     "iopub.status.idle": "2024-04-24T14:09:02.652998Z",
     "shell.execute_reply": "2024-04-24T14:09:02.651762Z"
    },
    "papermill": {
     "duration": 0.039361,
     "end_time": "2024-04-24T14:09:02.655797",
     "exception": false,
     "start_time": "2024-04-24T14:09:02.616436",
     "status": "completed"
    },
    "tags": []
   },
   "outputs": [
    {
     "data": {
      "text/html": [
       "<style>#sk-container-id-1 {color: black;background-color: white;}#sk-container-id-1 pre{padding: 0;}#sk-container-id-1 div.sk-toggleable {background-color: white;}#sk-container-id-1 label.sk-toggleable__label {cursor: pointer;display: block;width: 100%;margin-bottom: 0;padding: 0.3em;box-sizing: border-box;text-align: center;}#sk-container-id-1 label.sk-toggleable__label-arrow:before {content: \"▸\";float: left;margin-right: 0.25em;color: #696969;}#sk-container-id-1 label.sk-toggleable__label-arrow:hover:before {color: black;}#sk-container-id-1 div.sk-estimator:hover label.sk-toggleable__label-arrow:before {color: black;}#sk-container-id-1 div.sk-toggleable__content {max-height: 0;max-width: 0;overflow: hidden;text-align: left;background-color: #f0f8ff;}#sk-container-id-1 div.sk-toggleable__content pre {margin: 0.2em;color: black;border-radius: 0.25em;background-color: #f0f8ff;}#sk-container-id-1 input.sk-toggleable__control:checked~div.sk-toggleable__content {max-height: 200px;max-width: 100%;overflow: auto;}#sk-container-id-1 input.sk-toggleable__control:checked~label.sk-toggleable__label-arrow:before {content: \"▾\";}#sk-container-id-1 div.sk-estimator input.sk-toggleable__control:checked~label.sk-toggleable__label {background-color: #d4ebff;}#sk-container-id-1 div.sk-label input.sk-toggleable__control:checked~label.sk-toggleable__label {background-color: #d4ebff;}#sk-container-id-1 input.sk-hidden--visually {border: 0;clip: rect(1px 1px 1px 1px);clip: rect(1px, 1px, 1px, 1px);height: 1px;margin: -1px;overflow: hidden;padding: 0;position: absolute;width: 1px;}#sk-container-id-1 div.sk-estimator {font-family: monospace;background-color: #f0f8ff;border: 1px dotted black;border-radius: 0.25em;box-sizing: border-box;margin-bottom: 0.5em;}#sk-container-id-1 div.sk-estimator:hover {background-color: #d4ebff;}#sk-container-id-1 div.sk-parallel-item::after {content: \"\";width: 100%;border-bottom: 1px solid gray;flex-grow: 1;}#sk-container-id-1 div.sk-label:hover label.sk-toggleable__label {background-color: #d4ebff;}#sk-container-id-1 div.sk-serial::before {content: \"\";position: absolute;border-left: 1px solid gray;box-sizing: border-box;top: 0;bottom: 0;left: 50%;z-index: 0;}#sk-container-id-1 div.sk-serial {display: flex;flex-direction: column;align-items: center;background-color: white;padding-right: 0.2em;padding-left: 0.2em;position: relative;}#sk-container-id-1 div.sk-item {position: relative;z-index: 1;}#sk-container-id-1 div.sk-parallel {display: flex;align-items: stretch;justify-content: center;background-color: white;position: relative;}#sk-container-id-1 div.sk-item::before, #sk-container-id-1 div.sk-parallel-item::before {content: \"\";position: absolute;border-left: 1px solid gray;box-sizing: border-box;top: 0;bottom: 0;left: 50%;z-index: -1;}#sk-container-id-1 div.sk-parallel-item {display: flex;flex-direction: column;z-index: 1;position: relative;background-color: white;}#sk-container-id-1 div.sk-parallel-item:first-child::after {align-self: flex-end;width: 50%;}#sk-container-id-1 div.sk-parallel-item:last-child::after {align-self: flex-start;width: 50%;}#sk-container-id-1 div.sk-parallel-item:only-child::after {width: 0;}#sk-container-id-1 div.sk-dashed-wrapped {border: 1px dashed gray;margin: 0 0.4em 0.5em 0.4em;box-sizing: border-box;padding-bottom: 0.4em;background-color: white;}#sk-container-id-1 div.sk-label label {font-family: monospace;font-weight: bold;display: inline-block;line-height: 1.2em;}#sk-container-id-1 div.sk-label-container {text-align: center;}#sk-container-id-1 div.sk-container {/* jupyter's `normalize.less` sets `[hidden] { display: none; }` but bootstrap.min.css set `[hidden] { display: none !important; }` so we also need the `!important` here to be able to override the default hidden behavior on the sphinx rendered scikit-learn.org. See: https://github.com/scikit-learn/scikit-learn/issues/21755 */display: inline-block !important;position: relative;}#sk-container-id-1 div.sk-text-repr-fallback {display: none;}</style><div id=\"sk-container-id-1\" class=\"sk-top-container\"><div class=\"sk-text-repr-fallback\"><pre>LogisticRegression(max_iter=10)</pre><b>In a Jupyter environment, please rerun this cell to show the HTML representation or trust the notebook. <br />On GitHub, the HTML representation is unable to render, please try loading this page with nbviewer.org.</b></div><div class=\"sk-container\" hidden><div class=\"sk-item\"><div class=\"sk-estimator sk-toggleable\"><input class=\"sk-toggleable__control sk-hidden--visually\" id=\"sk-estimator-id-1\" type=\"checkbox\" checked><label for=\"sk-estimator-id-1\" class=\"sk-toggleable__label sk-toggleable__label-arrow\">LogisticRegression</label><div class=\"sk-toggleable__content\"><pre>LogisticRegression(max_iter=10)</pre></div></div></div></div></div>"
      ],
      "text/plain": [
       "LogisticRegression(max_iter=10)"
      ]
     },
     "execution_count": 15,
     "metadata": {},
     "output_type": "execute_result"
    }
   ],
   "source": [
    "model.fit(X_train, Y_train)"
   ]
  },
  {
   "cell_type": "code",
   "execution_count": 16,
   "id": "fc2679f5",
   "metadata": {
    "execution": {
     "iopub.execute_input": "2024-04-24T14:09:02.679731Z",
     "iopub.status.busy": "2024-04-24T14:09:02.679063Z",
     "iopub.status.idle": "2024-04-24T14:09:02.691115Z",
     "shell.execute_reply": "2024-04-24T14:09:02.689760Z"
    },
    "papermill": {
     "duration": 0.027155,
     "end_time": "2024-04-24T14:09:02.693817",
     "exception": false,
     "start_time": "2024-04-24T14:09:02.666662",
     "status": "completed"
    },
    "tags": []
   },
   "outputs": [
    {
     "data": {
      "text/plain": [
       "0.9658119658119658"
      ]
     },
     "execution_count": 16,
     "metadata": {},
     "output_type": "execute_result"
    }
   ],
   "source": [
    "model.score(X_train, Y_train)"
   ]
  },
  {
   "cell_type": "code",
   "execution_count": 17,
   "id": "3f321f95",
   "metadata": {
    "execution": {
     "iopub.execute_input": "2024-04-24T14:09:02.716801Z",
     "iopub.status.busy": "2024-04-24T14:09:02.716327Z",
     "iopub.status.idle": "2024-04-24T14:09:02.723935Z",
     "shell.execute_reply": "2024-04-24T14:09:02.722603Z"
    },
    "papermill": {
     "duration": 0.022501,
     "end_time": "2024-04-24T14:09:02.726674",
     "exception": false,
     "start_time": "2024-04-24T14:09:02.704173",
     "status": "completed"
    },
    "tags": []
   },
   "outputs": [],
   "source": [
    "y_predict = model.predict(X_test)"
   ]
  },
  {
   "cell_type": "code",
   "execution_count": 18,
   "id": "886a73e4",
   "metadata": {
    "execution": {
     "iopub.execute_input": "2024-04-24T14:09:02.750272Z",
     "iopub.status.busy": "2024-04-24T14:09:02.749819Z",
     "iopub.status.idle": "2024-04-24T14:09:02.759340Z",
     "shell.execute_reply": "2024-04-24T14:09:02.758209Z"
    },
    "papermill": {
     "duration": 0.02447,
     "end_time": "2024-04-24T14:09:02.761759",
     "exception": false,
     "start_time": "2024-04-24T14:09:02.737289",
     "status": "completed"
    },
    "tags": []
   },
   "outputs": [
    {
     "data": {
      "text/plain": [
       "1.0"
      ]
     },
     "execution_count": 18,
     "metadata": {},
     "output_type": "execute_result"
    }
   ],
   "source": [
    "accuracy = accuracy_score(Y_test, y_predict)\n",
    "accuracy"
   ]
  },
  {
   "cell_type": "code",
   "execution_count": null,
   "id": "b0e53ccb",
   "metadata": {
    "papermill": {
     "duration": 0.010263,
     "end_time": "2024-04-24T14:09:02.782480",
     "exception": false,
     "start_time": "2024-04-24T14:09:02.772217",
     "status": "completed"
    },
    "tags": []
   },
   "outputs": [],
   "source": []
  }
 ],
 "metadata": {
  "kaggle": {
   "accelerator": "none",
   "dataSources": [
    {
     "datasetId": 17860,
     "sourceId": 23404,
     "sourceType": "datasetVersion"
    }
   ],
   "dockerImageVersionId": 30698,
   "isGpuEnabled": false,
   "isInternetEnabled": true,
   "language": "python",
   "sourceType": "notebook"
  },
  "kernelspec": {
   "display_name": "Python 3",
   "language": "python",
   "name": "python3"
  },
  "language_info": {
   "codemirror_mode": {
    "name": "ipython",
    "version": 3
   },
   "file_extension": ".py",
   "mimetype": "text/x-python",
   "name": "python",
   "nbconvert_exporter": "python",
   "pygments_lexer": "ipython3",
   "version": "3.10.13"
  },
  "papermill": {
   "default_parameters": {},
   "duration": 7.84514,
   "end_time": "2024-04-24T14:09:03.516071",
   "environment_variables": {},
   "exception": null,
   "input_path": "__notebook__.ipynb",
   "output_path": "__notebook__.ipynb",
   "parameters": {},
   "start_time": "2024-04-24T14:08:55.670931",
   "version": "2.5.0"
  }
 },
 "nbformat": 4,
 "nbformat_minor": 5
}
