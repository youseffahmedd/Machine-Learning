{
 "cells": [
  {
   "cell_type": "markdown",
   "id": "641b0be6",
   "metadata": {
    "execution": {
     "iopub.execute_input": "2024-04-27T11:02:27.781299Z",
     "iopub.status.busy": "2024-04-27T11:02:27.780860Z",
     "iopub.status.idle": "2024-04-27T11:02:29.200437Z",
     "shell.execute_reply": "2024-04-27T11:02:29.199269Z",
     "shell.execute_reply.started": "2024-04-27T11:02:27.781262Z"
    },
    "papermill": {
     "duration": 0.010553,
     "end_time": "2024-04-27T20:21:02.232639",
     "exception": false,
     "start_time": "2024-04-27T20:21:02.222086",
     "status": "completed"
    },
    "tags": []
   },
   "source": [
    "# Import Needed libraries"
   ]
  },
  {
   "cell_type": "code",
   "execution_count": 1,
   "id": "9a82fbdc",
   "metadata": {
    "execution": {
     "iopub.execute_input": "2024-04-27T20:21:02.255049Z",
     "iopub.status.busy": "2024-04-27T20:21:02.254529Z",
     "iopub.status.idle": "2024-04-27T20:21:05.859087Z",
     "shell.execute_reply": "2024-04-27T20:21:05.857997Z"
    },
    "papermill": {
     "duration": 3.618554,
     "end_time": "2024-04-27T20:21:05.861656",
     "exception": false,
     "start_time": "2024-04-27T20:21:02.243102",
     "status": "completed"
    },
    "tags": []
   },
   "outputs": [],
   "source": [
    "import pandas as pd\n",
    "import numpy as np\n",
    "import matplotlib.pyplot as plt\n",
    "import seaborn as sns\n",
    "import plotly.express as px\n",
    "from plotly.offline import iplot\n",
    "from plotly.subplots import make_subplots\n",
    "from sklearn import tree\n",
    "from sklearn.ensemble import RandomForestClassifier\n",
    "from sklearn.linear_model import LogisticRegression\n",
    "from sklearn.preprocessing import LabelEncoder\n",
    "from sklearn.model_selection import train_test_split\n",
    "\n",
    "import warnings\n",
    "warnings.filterwarnings('ignore')"
   ]
  },
  {
   "cell_type": "markdown",
   "id": "f413d92b",
   "metadata": {
    "papermill": {
     "duration": 0.009806,
     "end_time": "2024-04-27T20:21:05.882240",
     "exception": false,
     "start_time": "2024-04-27T20:21:05.872434",
     "status": "completed"
    },
    "tags": []
   },
   "source": [
    "# Loading The Data"
   ]
  },
  {
   "cell_type": "code",
   "execution_count": 2,
   "id": "e5658ded",
   "metadata": {
    "execution": {
     "iopub.execute_input": "2024-04-27T20:21:05.906934Z",
     "iopub.status.busy": "2024-04-27T20:21:05.905800Z",
     "iopub.status.idle": "2024-04-27T20:21:05.931967Z",
     "shell.execute_reply": "2024-04-27T20:21:05.930843Z"
    },
    "papermill": {
     "duration": 0.041143,
     "end_time": "2024-04-27T20:21:05.934592",
     "exception": false,
     "start_time": "2024-04-27T20:21:05.893449",
     "status": "completed"
    },
    "tags": []
   },
   "outputs": [],
   "source": [
    "df = pd.read_csv('/kaggle/input/titanic-dataset/Titanic-Dataset.csv')"
   ]
  },
  {
   "cell_type": "markdown",
   "id": "5c901794",
   "metadata": {
    "papermill": {
     "duration": 0.009978,
     "end_time": "2024-04-27T20:21:05.954949",
     "exception": false,
     "start_time": "2024-04-27T20:21:05.944971",
     "status": "completed"
    },
    "tags": []
   },
   "source": [
    "# Exploring The Data"
   ]
  },
  {
   "cell_type": "code",
   "execution_count": 3,
   "id": "3f044d4d",
   "metadata": {
    "execution": {
     "iopub.execute_input": "2024-04-27T20:21:05.977149Z",
     "iopub.status.busy": "2024-04-27T20:21:05.976698Z",
     "iopub.status.idle": "2024-04-27T20:21:06.003651Z",
     "shell.execute_reply": "2024-04-27T20:21:06.002492Z"
    },
    "papermill": {
     "duration": 0.041218,
     "end_time": "2024-04-27T20:21:06.006369",
     "exception": false,
     "start_time": "2024-04-27T20:21:05.965151",
     "status": "completed"
    },
    "tags": []
   },
   "outputs": [
    {
     "data": {
      "text/html": [
       "<div>\n",
       "<style scoped>\n",
       "    .dataframe tbody tr th:only-of-type {\n",
       "        vertical-align: middle;\n",
       "    }\n",
       "\n",
       "    .dataframe tbody tr th {\n",
       "        vertical-align: top;\n",
       "    }\n",
       "\n",
       "    .dataframe thead th {\n",
       "        text-align: right;\n",
       "    }\n",
       "</style>\n",
       "<table border=\"1\" class=\"dataframe\">\n",
       "  <thead>\n",
       "    <tr style=\"text-align: right;\">\n",
       "      <th></th>\n",
       "      <th>PassengerId</th>\n",
       "      <th>Survived</th>\n",
       "      <th>Pclass</th>\n",
       "      <th>Name</th>\n",
       "      <th>Sex</th>\n",
       "      <th>Age</th>\n",
       "      <th>SibSp</th>\n",
       "      <th>Parch</th>\n",
       "      <th>Ticket</th>\n",
       "      <th>Fare</th>\n",
       "      <th>Cabin</th>\n",
       "      <th>Embarked</th>\n",
       "    </tr>\n",
       "  </thead>\n",
       "  <tbody>\n",
       "    <tr>\n",
       "      <th>0</th>\n",
       "      <td>1</td>\n",
       "      <td>0</td>\n",
       "      <td>3</td>\n",
       "      <td>Braund, Mr. Owen Harris</td>\n",
       "      <td>male</td>\n",
       "      <td>22.0</td>\n",
       "      <td>1</td>\n",
       "      <td>0</td>\n",
       "      <td>A/5 21171</td>\n",
       "      <td>7.2500</td>\n",
       "      <td>NaN</td>\n",
       "      <td>S</td>\n",
       "    </tr>\n",
       "    <tr>\n",
       "      <th>1</th>\n",
       "      <td>2</td>\n",
       "      <td>1</td>\n",
       "      <td>1</td>\n",
       "      <td>Cumings, Mrs. John Bradley (Florence Briggs Th...</td>\n",
       "      <td>female</td>\n",
       "      <td>38.0</td>\n",
       "      <td>1</td>\n",
       "      <td>0</td>\n",
       "      <td>PC 17599</td>\n",
       "      <td>71.2833</td>\n",
       "      <td>C85</td>\n",
       "      <td>C</td>\n",
       "    </tr>\n",
       "    <tr>\n",
       "      <th>2</th>\n",
       "      <td>3</td>\n",
       "      <td>1</td>\n",
       "      <td>3</td>\n",
       "      <td>Heikkinen, Miss. Laina</td>\n",
       "      <td>female</td>\n",
       "      <td>26.0</td>\n",
       "      <td>0</td>\n",
       "      <td>0</td>\n",
       "      <td>STON/O2. 3101282</td>\n",
       "      <td>7.9250</td>\n",
       "      <td>NaN</td>\n",
       "      <td>S</td>\n",
       "    </tr>\n",
       "    <tr>\n",
       "      <th>3</th>\n",
       "      <td>4</td>\n",
       "      <td>1</td>\n",
       "      <td>1</td>\n",
       "      <td>Futrelle, Mrs. Jacques Heath (Lily May Peel)</td>\n",
       "      <td>female</td>\n",
       "      <td>35.0</td>\n",
       "      <td>1</td>\n",
       "      <td>0</td>\n",
       "      <td>113803</td>\n",
       "      <td>53.1000</td>\n",
       "      <td>C123</td>\n",
       "      <td>S</td>\n",
       "    </tr>\n",
       "    <tr>\n",
       "      <th>4</th>\n",
       "      <td>5</td>\n",
       "      <td>0</td>\n",
       "      <td>3</td>\n",
       "      <td>Allen, Mr. William Henry</td>\n",
       "      <td>male</td>\n",
       "      <td>35.0</td>\n",
       "      <td>0</td>\n",
       "      <td>0</td>\n",
       "      <td>373450</td>\n",
       "      <td>8.0500</td>\n",
       "      <td>NaN</td>\n",
       "      <td>S</td>\n",
       "    </tr>\n",
       "  </tbody>\n",
       "</table>\n",
       "</div>"
      ],
      "text/plain": [
       "   PassengerId  Survived  Pclass  \\\n",
       "0            1         0       3   \n",
       "1            2         1       1   \n",
       "2            3         1       3   \n",
       "3            4         1       1   \n",
       "4            5         0       3   \n",
       "\n",
       "                                                Name     Sex   Age  SibSp  \\\n",
       "0                            Braund, Mr. Owen Harris    male  22.0      1   \n",
       "1  Cumings, Mrs. John Bradley (Florence Briggs Th...  female  38.0      1   \n",
       "2                             Heikkinen, Miss. Laina  female  26.0      0   \n",
       "3       Futrelle, Mrs. Jacques Heath (Lily May Peel)  female  35.0      1   \n",
       "4                           Allen, Mr. William Henry    male  35.0      0   \n",
       "\n",
       "   Parch            Ticket     Fare Cabin Embarked  \n",
       "0      0         A/5 21171   7.2500   NaN        S  \n",
       "1      0          PC 17599  71.2833   C85        C  \n",
       "2      0  STON/O2. 3101282   7.9250   NaN        S  \n",
       "3      0            113803  53.1000  C123        S  \n",
       "4      0            373450   8.0500   NaN        S  "
      ]
     },
     "execution_count": 3,
     "metadata": {},
     "output_type": "execute_result"
    }
   ],
   "source": [
    "df.head()"
   ]
  },
  {
   "cell_type": "code",
   "execution_count": 4,
   "id": "c95824ff",
   "metadata": {
    "execution": {
     "iopub.execute_input": "2024-04-27T20:21:06.030099Z",
     "iopub.status.busy": "2024-04-27T20:21:06.029660Z",
     "iopub.status.idle": "2024-04-27T20:21:06.036909Z",
     "shell.execute_reply": "2024-04-27T20:21:06.035727Z"
    },
    "papermill": {
     "duration": 0.021805,
     "end_time": "2024-04-27T20:21:06.039201",
     "exception": false,
     "start_time": "2024-04-27T20:21:06.017396",
     "status": "completed"
    },
    "tags": []
   },
   "outputs": [
    {
     "data": {
      "text/plain": [
       "(891, 12)"
      ]
     },
     "execution_count": 4,
     "metadata": {},
     "output_type": "execute_result"
    }
   ],
   "source": [
    "df.shape"
   ]
  },
  {
   "cell_type": "code",
   "execution_count": 5,
   "id": "12f29bcd",
   "metadata": {
    "execution": {
     "iopub.execute_input": "2024-04-27T20:21:06.062070Z",
     "iopub.status.busy": "2024-04-27T20:21:06.061652Z",
     "iopub.status.idle": "2024-04-27T20:21:06.076429Z",
     "shell.execute_reply": "2024-04-27T20:21:06.075520Z"
    },
    "papermill": {
     "duration": 0.02865,
     "end_time": "2024-04-27T20:21:06.078509",
     "exception": false,
     "start_time": "2024-04-27T20:21:06.049859",
     "status": "completed"
    },
    "tags": []
   },
   "outputs": [
    {
     "data": {
      "text/plain": [
       "0"
      ]
     },
     "execution_count": 5,
     "metadata": {},
     "output_type": "execute_result"
    }
   ],
   "source": [
    "df.duplicated().sum()"
   ]
  },
  {
   "cell_type": "code",
   "execution_count": 6,
   "id": "dd0d8457",
   "metadata": {
    "execution": {
     "iopub.execute_input": "2024-04-27T20:21:06.101929Z",
     "iopub.status.busy": "2024-04-27T20:21:06.100954Z",
     "iopub.status.idle": "2024-04-27T20:21:06.111350Z",
     "shell.execute_reply": "2024-04-27T20:21:06.110315Z"
    },
    "papermill": {
     "duration": 0.024416,
     "end_time": "2024-04-27T20:21:06.113644",
     "exception": false,
     "start_time": "2024-04-27T20:21:06.089228",
     "status": "completed"
    },
    "tags": []
   },
   "outputs": [
    {
     "data": {
      "text/plain": [
       "PassengerId      0\n",
       "Survived         0\n",
       "Pclass           0\n",
       "Name             0\n",
       "Sex              0\n",
       "Age            177\n",
       "SibSp            0\n",
       "Parch            0\n",
       "Ticket           0\n",
       "Fare             0\n",
       "Cabin          687\n",
       "Embarked         2\n",
       "dtype: int64"
      ]
     },
     "execution_count": 6,
     "metadata": {},
     "output_type": "execute_result"
    }
   ],
   "source": [
    "df.isnull().sum()"
   ]
  },
  {
   "cell_type": "code",
   "execution_count": 7,
   "id": "56fb8b87",
   "metadata": {
    "execution": {
     "iopub.execute_input": "2024-04-27T20:21:06.137222Z",
     "iopub.status.busy": "2024-04-27T20:21:06.136768Z",
     "iopub.status.idle": "2024-04-27T20:21:06.153466Z",
     "shell.execute_reply": "2024-04-27T20:21:06.152219Z"
    },
    "papermill": {
     "duration": 0.031503,
     "end_time": "2024-04-27T20:21:06.155886",
     "exception": false,
     "start_time": "2024-04-27T20:21:06.124383",
     "status": "completed"
    },
    "tags": []
   },
   "outputs": [
    {
     "data": {
      "text/html": [
       "<div>\n",
       "<style scoped>\n",
       "    .dataframe tbody tr th:only-of-type {\n",
       "        vertical-align: middle;\n",
       "    }\n",
       "\n",
       "    .dataframe tbody tr th {\n",
       "        vertical-align: top;\n",
       "    }\n",
       "\n",
       "    .dataframe thead th {\n",
       "        text-align: right;\n",
       "    }\n",
       "</style>\n",
       "<table border=\"1\" class=\"dataframe\">\n",
       "  <thead>\n",
       "    <tr style=\"text-align: right;\">\n",
       "      <th></th>\n",
       "      <th>Sex</th>\n",
       "      <th>Age</th>\n",
       "    </tr>\n",
       "  </thead>\n",
       "  <tbody>\n",
       "    <tr>\n",
       "      <th>0</th>\n",
       "      <td>female</td>\n",
       "      <td>27.915709</td>\n",
       "    </tr>\n",
       "    <tr>\n",
       "      <th>1</th>\n",
       "      <td>male</td>\n",
       "      <td>30.726645</td>\n",
       "    </tr>\n",
       "  </tbody>\n",
       "</table>\n",
       "</div>"
      ],
      "text/plain": [
       "      Sex        Age\n",
       "0  female  27.915709\n",
       "1    male  30.726645"
      ]
     },
     "execution_count": 7,
     "metadata": {},
     "output_type": "execute_result"
    }
   ],
   "source": [
    "df.groupby('Sex')['Age'].mean().reset_index()"
   ]
  },
  {
   "cell_type": "code",
   "execution_count": 8,
   "id": "fb38fde5",
   "metadata": {
    "execution": {
     "iopub.execute_input": "2024-04-27T20:21:06.179603Z",
     "iopub.status.busy": "2024-04-27T20:21:06.179226Z",
     "iopub.status.idle": "2024-04-27T20:21:06.185924Z",
     "shell.execute_reply": "2024-04-27T20:21:06.184653Z"
    },
    "papermill": {
     "duration": 0.021604,
     "end_time": "2024-04-27T20:21:06.188574",
     "exception": false,
     "start_time": "2024-04-27T20:21:06.166970",
     "status": "completed"
    },
    "tags": []
   },
   "outputs": [],
   "source": [
    "df['Age'].fillna(df['Age'].mean(), inplace=True)"
   ]
  },
  {
   "cell_type": "code",
   "execution_count": 9,
   "id": "7136526a",
   "metadata": {
    "execution": {
     "iopub.execute_input": "2024-04-27T20:21:06.211953Z",
     "iopub.status.busy": "2024-04-27T20:21:06.211569Z",
     "iopub.status.idle": "2024-04-27T20:21:06.221582Z",
     "shell.execute_reply": "2024-04-27T20:21:06.220438Z"
    },
    "papermill": {
     "duration": 0.024192,
     "end_time": "2024-04-27T20:21:06.223667",
     "exception": false,
     "start_time": "2024-04-27T20:21:06.199475",
     "status": "completed"
    },
    "tags": []
   },
   "outputs": [],
   "source": [
    "df.drop('Cabin', axis=1,inplace=True)"
   ]
  },
  {
   "cell_type": "code",
   "execution_count": 10,
   "id": "79ec9f20",
   "metadata": {
    "execution": {
     "iopub.execute_input": "2024-04-27T20:21:06.247518Z",
     "iopub.status.busy": "2024-04-27T20:21:06.247125Z",
     "iopub.status.idle": "2024-04-27T20:21:06.255785Z",
     "shell.execute_reply": "2024-04-27T20:21:06.254748Z"
    },
    "papermill": {
     "duration": 0.0232,
     "end_time": "2024-04-27T20:21:06.258350",
     "exception": false,
     "start_time": "2024-04-27T20:21:06.235150",
     "status": "completed"
    },
    "tags": []
   },
   "outputs": [],
   "source": [
    "df.dropna(inplace=True)"
   ]
  },
  {
   "cell_type": "code",
   "execution_count": 11,
   "id": "443cbc0d",
   "metadata": {
    "execution": {
     "iopub.execute_input": "2024-04-27T20:21:06.281516Z",
     "iopub.status.busy": "2024-04-27T20:21:06.281135Z",
     "iopub.status.idle": "2024-04-27T20:21:06.299559Z",
     "shell.execute_reply": "2024-04-27T20:21:06.298307Z"
    },
    "papermill": {
     "duration": 0.033057,
     "end_time": "2024-04-27T20:21:06.302238",
     "exception": false,
     "start_time": "2024-04-27T20:21:06.269181",
     "status": "completed"
    },
    "tags": []
   },
   "outputs": [
    {
     "name": "stdout",
     "output_type": "stream",
     "text": [
      "<class 'pandas.core.frame.DataFrame'>\n",
      "Index: 889 entries, 0 to 890\n",
      "Data columns (total 11 columns):\n",
      " #   Column       Non-Null Count  Dtype  \n",
      "---  ------       --------------  -----  \n",
      " 0   PassengerId  889 non-null    int64  \n",
      " 1   Survived     889 non-null    int64  \n",
      " 2   Pclass       889 non-null    int64  \n",
      " 3   Name         889 non-null    object \n",
      " 4   Sex          889 non-null    object \n",
      " 5   Age          889 non-null    float64\n",
      " 6   SibSp        889 non-null    int64  \n",
      " 7   Parch        889 non-null    int64  \n",
      " 8   Ticket       889 non-null    object \n",
      " 9   Fare         889 non-null    float64\n",
      " 10  Embarked     889 non-null    object \n",
      "dtypes: float64(2), int64(5), object(4)\n",
      "memory usage: 83.3+ KB\n"
     ]
    }
   ],
   "source": [
    "df.info()"
   ]
  },
  {
   "cell_type": "markdown",
   "id": "96f5b84c",
   "metadata": {
    "papermill": {
     "duration": 0.011553,
     "end_time": "2024-04-27T20:21:06.325282",
     "exception": false,
     "start_time": "2024-04-27T20:21:06.313729",
     "status": "completed"
    },
    "tags": []
   },
   "source": [
    "# Analysis & Visualization"
   ]
  },
  {
   "cell_type": "code",
   "execution_count": 12,
   "id": "0dcd1de3",
   "metadata": {
    "execution": {
     "iopub.execute_input": "2024-04-27T20:21:06.349167Z",
     "iopub.status.busy": "2024-04-27T20:21:06.348729Z",
     "iopub.status.idle": "2024-04-27T20:21:06.363545Z",
     "shell.execute_reply": "2024-04-27T20:21:06.362610Z"
    },
    "papermill": {
     "duration": 0.029032,
     "end_time": "2024-04-27T20:21:06.365582",
     "exception": false,
     "start_time": "2024-04-27T20:21:06.336550",
     "status": "completed"
    },
    "tags": []
   },
   "outputs": [
    {
     "data": {
      "text/html": [
       "<div>\n",
       "<style scoped>\n",
       "    .dataframe tbody tr th:only-of-type {\n",
       "        vertical-align: middle;\n",
       "    }\n",
       "\n",
       "    .dataframe tbody tr th {\n",
       "        vertical-align: top;\n",
       "    }\n",
       "\n",
       "    .dataframe thead th {\n",
       "        text-align: right;\n",
       "    }\n",
       "</style>\n",
       "<table border=\"1\" class=\"dataframe\">\n",
       "  <thead>\n",
       "    <tr style=\"text-align: right;\">\n",
       "      <th></th>\n",
       "      <th>PassengerId</th>\n",
       "      <th>Survived</th>\n",
       "      <th>Pclass</th>\n",
       "      <th>Name</th>\n",
       "      <th>Sex</th>\n",
       "      <th>Age</th>\n",
       "      <th>SibSp</th>\n",
       "      <th>Parch</th>\n",
       "      <th>Ticket</th>\n",
       "      <th>Fare</th>\n",
       "      <th>Embarked</th>\n",
       "    </tr>\n",
       "  </thead>\n",
       "  <tbody>\n",
       "    <tr>\n",
       "      <th>0</th>\n",
       "      <td>1</td>\n",
       "      <td>0</td>\n",
       "      <td>3</td>\n",
       "      <td>Braund, Mr. Owen Harris</td>\n",
       "      <td>male</td>\n",
       "      <td>22.0</td>\n",
       "      <td>1</td>\n",
       "      <td>0</td>\n",
       "      <td>A/5 21171</td>\n",
       "      <td>7.2500</td>\n",
       "      <td>S</td>\n",
       "    </tr>\n",
       "    <tr>\n",
       "      <th>1</th>\n",
       "      <td>2</td>\n",
       "      <td>1</td>\n",
       "      <td>1</td>\n",
       "      <td>Cumings, Mrs. John Bradley (Florence Briggs Th...</td>\n",
       "      <td>female</td>\n",
       "      <td>38.0</td>\n",
       "      <td>1</td>\n",
       "      <td>0</td>\n",
       "      <td>PC 17599</td>\n",
       "      <td>71.2833</td>\n",
       "      <td>C</td>\n",
       "    </tr>\n",
       "    <tr>\n",
       "      <th>2</th>\n",
       "      <td>3</td>\n",
       "      <td>1</td>\n",
       "      <td>3</td>\n",
       "      <td>Heikkinen, Miss. Laina</td>\n",
       "      <td>female</td>\n",
       "      <td>26.0</td>\n",
       "      <td>0</td>\n",
       "      <td>0</td>\n",
       "      <td>STON/O2. 3101282</td>\n",
       "      <td>7.9250</td>\n",
       "      <td>S</td>\n",
       "    </tr>\n",
       "    <tr>\n",
       "      <th>3</th>\n",
       "      <td>4</td>\n",
       "      <td>1</td>\n",
       "      <td>1</td>\n",
       "      <td>Futrelle, Mrs. Jacques Heath (Lily May Peel)</td>\n",
       "      <td>female</td>\n",
       "      <td>35.0</td>\n",
       "      <td>1</td>\n",
       "      <td>0</td>\n",
       "      <td>113803</td>\n",
       "      <td>53.1000</td>\n",
       "      <td>S</td>\n",
       "    </tr>\n",
       "    <tr>\n",
       "      <th>4</th>\n",
       "      <td>5</td>\n",
       "      <td>0</td>\n",
       "      <td>3</td>\n",
       "      <td>Allen, Mr. William Henry</td>\n",
       "      <td>male</td>\n",
       "      <td>35.0</td>\n",
       "      <td>0</td>\n",
       "      <td>0</td>\n",
       "      <td>373450</td>\n",
       "      <td>8.0500</td>\n",
       "      <td>S</td>\n",
       "    </tr>\n",
       "  </tbody>\n",
       "</table>\n",
       "</div>"
      ],
      "text/plain": [
       "   PassengerId  Survived  Pclass  \\\n",
       "0            1         0       3   \n",
       "1            2         1       1   \n",
       "2            3         1       3   \n",
       "3            4         1       1   \n",
       "4            5         0       3   \n",
       "\n",
       "                                                Name     Sex   Age  SibSp  \\\n",
       "0                            Braund, Mr. Owen Harris    male  22.0      1   \n",
       "1  Cumings, Mrs. John Bradley (Florence Briggs Th...  female  38.0      1   \n",
       "2                             Heikkinen, Miss. Laina  female  26.0      0   \n",
       "3       Futrelle, Mrs. Jacques Heath (Lily May Peel)  female  35.0      1   \n",
       "4                           Allen, Mr. William Henry    male  35.0      0   \n",
       "\n",
       "   Parch            Ticket     Fare Embarked  \n",
       "0      0         A/5 21171   7.2500        S  \n",
       "1      0          PC 17599  71.2833        C  \n",
       "2      0  STON/O2. 3101282   7.9250        S  \n",
       "3      0            113803  53.1000        S  \n",
       "4      0            373450   8.0500        S  "
      ]
     },
     "execution_count": 12,
     "metadata": {},
     "output_type": "execute_result"
    }
   ],
   "source": [
    "df.head()"
   ]
  },
  {
   "cell_type": "code",
   "execution_count": 13,
   "id": "79645951",
   "metadata": {
    "execution": {
     "iopub.execute_input": "2024-04-27T20:21:06.390346Z",
     "iopub.status.busy": "2024-04-27T20:21:06.389225Z",
     "iopub.status.idle": "2024-04-27T20:21:06.396800Z",
     "shell.execute_reply": "2024-04-27T20:21:06.396056Z"
    },
    "papermill": {
     "duration": 0.022166,
     "end_time": "2024-04-27T20:21:06.399026",
     "exception": false,
     "start_time": "2024-04-27T20:21:06.376860",
     "status": "completed"
    },
    "tags": []
   },
   "outputs": [
    {
     "data": {
      "text/plain": [
       "Sex\n",
       "male      577\n",
       "female    312\n",
       "Name: count, dtype: int64"
      ]
     },
     "execution_count": 13,
     "metadata": {},
     "output_type": "execute_result"
    }
   ],
   "source": [
    "gender = df['Sex'].value_counts()\n",
    "gender"
   ]
  },
  {
   "cell_type": "code",
   "execution_count": 14,
   "id": "275b1916",
   "metadata": {
    "execution": {
     "iopub.execute_input": "2024-04-27T20:21:06.423973Z",
     "iopub.status.busy": "2024-04-27T20:21:06.422923Z",
     "iopub.status.idle": "2024-04-27T20:21:06.631695Z",
     "shell.execute_reply": "2024-04-27T20:21:06.630354Z"
    },
    "papermill": {
     "duration": 0.225294,
     "end_time": "2024-04-27T20:21:06.635711",
     "exception": false,
     "start_time": "2024-04-27T20:21:06.410417",
     "status": "completed"
    },
    "tags": []
   },
   "outputs": [
    {
     "data": {
      "image/png": "[encoded data removed]",
      "text/plain": [
       "<Figure size 1000x600 with 1 Axes>"
      ]
     },
     "metadata": {},
     "output_type": "display_data"
    }
   ],
   "source": [
    "plt.figure(figsize=(10,6))\n",
    "plt.pie(gender, labels=['Male', 'Female'] ,autopct='%.1f%%', colors=['lightblue','pink'])\n",
    "plt.legend()\n",
    "plt.title('Male & Female')\n",
    "plt.show()"
   ]
  },
  {
   "cell_type": "code",
   "execution_count": 15,
   "id": "6ee2f8a1",
   "metadata": {
    "execution": {
     "iopub.execute_input": "2024-04-27T20:21:06.671942Z",
     "iopub.status.busy": "2024-04-27T20:21:06.671311Z",
     "iopub.status.idle": "2024-04-27T20:21:07.045608Z",
     "shell.execute_reply": "2024-04-27T20:21:07.044080Z"
    },
    "papermill": {
     "duration": 0.39309,
     "end_time": "2024-04-27T20:21:07.048334",
     "exception": false,
     "start_time": "2024-04-27T20:21:06.655244",
     "status": "completed"
    },
    "tags": []
   },
   "outputs": [
    {
     "data": {
      "image/png": "[encoded data removed]",
      "text/plain": [
       "<Figure size 640x480 with 1 Axes>"
      ]
     },
     "metadata": {},
     "output_type": "display_data"
    }
   ],
   "source": [
    "sns.histplot(data=df, x='Age', bins=30, kde=True)\n",
    "plt.title('Age Distribution')\n",
    "plt.xlabel('Age')\n",
    "plt.ylabel('Frequency')\n",
    "plt.show()"
   ]
  },
  {
   "cell_type": "code",
   "execution_count": 16,
   "id": "76e5fea2",
   "metadata": {
    "execution": {
     "iopub.execute_input": "2024-04-27T20:21:07.075451Z",
     "iopub.status.busy": "2024-04-27T20:21:07.074870Z",
     "iopub.status.idle": "2024-04-27T20:21:07.091000Z",
     "shell.execute_reply": "2024-04-27T20:21:07.089866Z"
    },
    "papermill": {
     "duration": 0.03193,
     "end_time": "2024-04-27T20:21:07.093183",
     "exception": false,
     "start_time": "2024-04-27T20:21:07.061253",
     "status": "completed"
    },
    "tags": []
   },
   "outputs": [
    {
     "data": {
      "text/html": [
       "<div>\n",
       "<style scoped>\n",
       "    .dataframe tbody tr th:only-of-type {\n",
       "        vertical-align: middle;\n",
       "    }\n",
       "\n",
       "    .dataframe tbody tr th {\n",
       "        vertical-align: top;\n",
       "    }\n",
       "\n",
       "    .dataframe thead th {\n",
       "        text-align: right;\n",
       "    }\n",
       "</style>\n",
       "<table border=\"1\" class=\"dataframe\">\n",
       "  <thead>\n",
       "    <tr style=\"text-align: right;\">\n",
       "      <th></th>\n",
       "      <th>Survived</th>\n",
       "      <th>Sex</th>\n",
       "      <th>count</th>\n",
       "    </tr>\n",
       "  </thead>\n",
       "  <tbody>\n",
       "    <tr>\n",
       "      <th>0</th>\n",
       "      <td>0</td>\n",
       "      <td>male</td>\n",
       "      <td>468</td>\n",
       "    </tr>\n",
       "    <tr>\n",
       "      <th>1</th>\n",
       "      <td>1</td>\n",
       "      <td>female</td>\n",
       "      <td>231</td>\n",
       "    </tr>\n",
       "    <tr>\n",
       "      <th>2</th>\n",
       "      <td>1</td>\n",
       "      <td>male</td>\n",
       "      <td>109</td>\n",
       "    </tr>\n",
       "    <tr>\n",
       "      <th>3</th>\n",
       "      <td>0</td>\n",
       "      <td>female</td>\n",
       "      <td>81</td>\n",
       "    </tr>\n",
       "  </tbody>\n",
       "</table>\n",
       "</div>"
      ],
      "text/plain": [
       "   Survived     Sex  count\n",
       "0         0    male    468\n",
       "1         1  female    231\n",
       "2         1    male    109\n",
       "3         0  female     81"
      ]
     },
     "execution_count": 16,
     "metadata": {},
     "output_type": "execute_result"
    }
   ],
   "source": [
    "sv_sex = df[['Survived','Sex']].value_counts().reset_index()\n",
    "sv_sex"
   ]
  },
  {
   "cell_type": "code",
   "execution_count": 17,
   "id": "afa38d69",
   "metadata": {
    "execution": {
     "iopub.execute_input": "2024-04-27T20:21:07.119875Z",
     "iopub.status.busy": "2024-04-27T20:21:07.119505Z",
     "iopub.status.idle": "2024-04-27T20:21:07.322507Z",
     "shell.execute_reply": "2024-04-27T20:21:07.321039Z"
    },
    "papermill": {
     "duration": 0.219227,
     "end_time": "2024-04-27T20:21:07.325107",
     "exception": false,
     "start_time": "2024-04-27T20:21:07.105880",
     "status": "completed"
    },
    "tags": []
   },
   "outputs": [
    {
     "data": {
      "image/png": "[encoded data removed]",
      "text/plain": [
       "<Figure size 500x600 with 1 Axes>"
      ]
     },
     "metadata": {},
     "output_type": "display_data"
    }
   ],
   "source": [
    "plt.figure(figsize=(5,6))\n",
    "sns.barplot(data=sv_sex , x=sv_sex['Survived'], y=sv_sex['count'], hue=sv_sex['Sex'])\n",
    "plt.title('Survived Frequency')\n",
    "plt.xlabel('Survived')\n",
    "plt.ylabel('Frequency')\n",
    "plt.show()"
   ]
  },
  {
   "cell_type": "code",
   "execution_count": 18,
   "id": "7e797b06",
   "metadata": {
    "execution": {
     "iopub.execute_input": "2024-04-27T20:21:07.414260Z",
     "iopub.status.busy": "2024-04-27T20:21:07.413576Z",
     "iopub.status.idle": "2024-04-27T20:21:07.427506Z",
     "shell.execute_reply": "2024-04-27T20:21:07.426569Z"
    },
    "papermill": {
     "duration": 0.090873,
     "end_time": "2024-04-27T20:21:07.429559",
     "exception": false,
     "start_time": "2024-04-27T20:21:07.338686",
     "status": "completed"
    },
    "tags": []
   },
   "outputs": [
    {
     "data": {
      "text/html": [
       "<div>\n",
       "<style scoped>\n",
       "    .dataframe tbody tr th:only-of-type {\n",
       "        vertical-align: middle;\n",
       "    }\n",
       "\n",
       "    .dataframe tbody tr th {\n",
       "        vertical-align: top;\n",
       "    }\n",
       "\n",
       "    .dataframe thead th {\n",
       "        text-align: right;\n",
       "    }\n",
       "</style>\n",
       "<table border=\"1\" class=\"dataframe\">\n",
       "  <thead>\n",
       "    <tr style=\"text-align: right;\">\n",
       "      <th></th>\n",
       "      <th>Embarked</th>\n",
       "      <th>Sex</th>\n",
       "      <th>count</th>\n",
       "    </tr>\n",
       "  </thead>\n",
       "  <tbody>\n",
       "    <tr>\n",
       "      <th>0</th>\n",
       "      <td>S</td>\n",
       "      <td>male</td>\n",
       "      <td>441</td>\n",
       "    </tr>\n",
       "    <tr>\n",
       "      <th>1</th>\n",
       "      <td>S</td>\n",
       "      <td>female</td>\n",
       "      <td>203</td>\n",
       "    </tr>\n",
       "    <tr>\n",
       "      <th>2</th>\n",
       "      <td>C</td>\n",
       "      <td>male</td>\n",
       "      <td>95</td>\n",
       "    </tr>\n",
       "    <tr>\n",
       "      <th>3</th>\n",
       "      <td>C</td>\n",
       "      <td>female</td>\n",
       "      <td>73</td>\n",
       "    </tr>\n",
       "    <tr>\n",
       "      <th>4</th>\n",
       "      <td>Q</td>\n",
       "      <td>male</td>\n",
       "      <td>41</td>\n",
       "    </tr>\n",
       "    <tr>\n",
       "      <th>5</th>\n",
       "      <td>Q</td>\n",
       "      <td>female</td>\n",
       "      <td>36</td>\n",
       "    </tr>\n",
       "  </tbody>\n",
       "</table>\n",
       "</div>"
      ],
      "text/plain": [
       "  Embarked     Sex  count\n",
       "0        S    male    441\n",
       "1        S  female    203\n",
       "2        C    male     95\n",
       "3        C  female     73\n",
       "4        Q    male     41\n",
       "5        Q  female     36"
      ]
     },
     "execution_count": 18,
     "metadata": {},
     "output_type": "execute_result"
    }
   ],
   "source": [
    "Em_sex = df[['Embarked', 'Sex']].value_counts().reset_index()\n",
    "Em_sex"
   ]
  },
  {
   "cell_type": "code",
   "execution_count": 19,
   "id": "eb8d6536",
   "metadata": {
    "execution": {
     "iopub.execute_input": "2024-04-27T20:21:07.456910Z",
     "iopub.status.busy": "2024-04-27T20:21:07.456492Z",
     "iopub.status.idle": "2024-04-27T20:21:07.728194Z",
     "shell.execute_reply": "2024-04-27T20:21:07.727079Z"
    },
    "papermill": {
     "duration": 0.28822,
     "end_time": "2024-04-27T20:21:07.730653",
     "exception": false,
     "start_time": "2024-04-27T20:21:07.442433",
     "status": "completed"
    },
    "tags": []
   },
   "outputs": [
    {
     "data": {
      "image/png": "[encoded data removed]",
      "text/plain": [
       "<Figure size 700x600 with 1 Axes>"
      ]
     },
     "metadata": {},
     "output_type": "display_data"
    }
   ],
   "source": [
    "plt.figure(figsize=(7,6))\n",
    "sns.barplot(data=Em_sex , x=Em_sex['Embarked'], y=Em_sex['count'], hue=Em_sex['Sex'])\n",
    "plt.title('Embarked & Sex Frequency')\n",
    "plt.xlabel('Embarked')\n",
    "plt.ylabel('Frequency')\n",
    "plt.show()"
   ]
  },
  {
   "cell_type": "code",
   "execution_count": 20,
   "id": "4649cd55",
   "metadata": {
    "execution": {
     "iopub.execute_input": "2024-04-27T20:21:07.759815Z",
     "iopub.status.busy": "2024-04-27T20:21:07.759387Z",
     "iopub.status.idle": "2024-04-27T20:21:07.774270Z",
     "shell.execute_reply": "2024-04-27T20:21:07.772978Z"
    },
    "papermill": {
     "duration": 0.032211,
     "end_time": "2024-04-27T20:21:07.776709",
     "exception": false,
     "start_time": "2024-04-27T20:21:07.744498",
     "status": "completed"
    },
    "tags": []
   },
   "outputs": [
    {
     "data": {
      "text/html": [
       "<div>\n",
       "<style scoped>\n",
       "    .dataframe tbody tr th:only-of-type {\n",
       "        vertical-align: middle;\n",
       "    }\n",
       "\n",
       "    .dataframe tbody tr th {\n",
       "        vertical-align: top;\n",
       "    }\n",
       "\n",
       "    .dataframe thead th {\n",
       "        text-align: right;\n",
       "    }\n",
       "</style>\n",
       "<table border=\"1\" class=\"dataframe\">\n",
       "  <thead>\n",
       "    <tr style=\"text-align: right;\">\n",
       "      <th></th>\n",
       "      <th>Survived</th>\n",
       "      <th>Embarked</th>\n",
       "      <th>count</th>\n",
       "    </tr>\n",
       "  </thead>\n",
       "  <tbody>\n",
       "    <tr>\n",
       "      <th>0</th>\n",
       "      <td>0</td>\n",
       "      <td>S</td>\n",
       "      <td>427</td>\n",
       "    </tr>\n",
       "    <tr>\n",
       "      <th>1</th>\n",
       "      <td>1</td>\n",
       "      <td>S</td>\n",
       "      <td>217</td>\n",
       "    </tr>\n",
       "    <tr>\n",
       "      <th>2</th>\n",
       "      <td>1</td>\n",
       "      <td>C</td>\n",
       "      <td>93</td>\n",
       "    </tr>\n",
       "    <tr>\n",
       "      <th>3</th>\n",
       "      <td>0</td>\n",
       "      <td>C</td>\n",
       "      <td>75</td>\n",
       "    </tr>\n",
       "    <tr>\n",
       "      <th>4</th>\n",
       "      <td>0</td>\n",
       "      <td>Q</td>\n",
       "      <td>47</td>\n",
       "    </tr>\n",
       "    <tr>\n",
       "      <th>5</th>\n",
       "      <td>1</td>\n",
       "      <td>Q</td>\n",
       "      <td>30</td>\n",
       "    </tr>\n",
       "  </tbody>\n",
       "</table>\n",
       "</div>"
      ],
      "text/plain": [
       "   Survived Embarked  count\n",
       "0         0        S    427\n",
       "1         1        S    217\n",
       "2         1        C     93\n",
       "3         0        C     75\n",
       "4         0        Q     47\n",
       "5         1        Q     30"
      ]
     },
     "execution_count": 20,
     "metadata": {},
     "output_type": "execute_result"
    }
   ],
   "source": [
    "sv_em = df[['Survived', 'Embarked']].value_counts().reset_index()\n",
    "sv_em"
   ]
  },
  {
   "cell_type": "code",
   "execution_count": 21,
   "id": "cd719573",
   "metadata": {
    "execution": {
     "iopub.execute_input": "2024-04-27T20:21:07.805934Z",
     "iopub.status.busy": "2024-04-27T20:21:07.805544Z",
     "iopub.status.idle": "2024-04-27T20:21:08.060752Z",
     "shell.execute_reply": "2024-04-27T20:21:08.059326Z"
    },
    "papermill": {
     "duration": 0.272682,
     "end_time": "2024-04-27T20:21:08.063094",
     "exception": false,
     "start_time": "2024-04-27T20:21:07.790412",
     "status": "completed"
    },
    "tags": []
   },
   "outputs": [
    {
     "data": {
      "image/png": "[encoded data removed]",
      "text/plain": [
       "<Figure size 800x600 with 1 Axes>"
      ]
     },
     "metadata": {},
     "output_type": "display_data"
    }
   ],
   "source": [
    "plt.figure(figsize=(8,6))\n",
    "sns.barplot(data=sv_em , x=sv_em['Survived'], y=sv_em['count'], hue=sv_em['Embarked'])\n",
    "plt.title('Survived & Embarked Frequency')\n",
    "plt.xlabel('Survived')\n",
    "plt.ylabel('Frequency')\n",
    "plt.show()"
   ]
  },
  {
   "cell_type": "code",
   "execution_count": 22,
   "id": "5d6c3c60",
   "metadata": {
    "execution": {
     "iopub.execute_input": "2024-04-27T20:21:08.093481Z",
     "iopub.status.busy": "2024-04-27T20:21:08.092545Z",
     "iopub.status.idle": "2024-04-27T20:21:08.107012Z",
     "shell.execute_reply": "2024-04-27T20:21:08.105799Z"
    },
    "papermill": {
     "duration": 0.031849,
     "end_time": "2024-04-27T20:21:08.109165",
     "exception": false,
     "start_time": "2024-04-27T20:21:08.077316",
     "status": "completed"
    },
    "tags": []
   },
   "outputs": [
    {
     "data": {
      "text/html": [
       "<div>\n",
       "<style scoped>\n",
       "    .dataframe tbody tr th:only-of-type {\n",
       "        vertical-align: middle;\n",
       "    }\n",
       "\n",
       "    .dataframe tbody tr th {\n",
       "        vertical-align: top;\n",
       "    }\n",
       "\n",
       "    .dataframe thead th {\n",
       "        text-align: right;\n",
       "    }\n",
       "</style>\n",
       "<table border=\"1\" class=\"dataframe\">\n",
       "  <thead>\n",
       "    <tr style=\"text-align: right;\">\n",
       "      <th></th>\n",
       "      <th>Survived</th>\n",
       "      <th>Pclass</th>\n",
       "      <th>count</th>\n",
       "    </tr>\n",
       "  </thead>\n",
       "  <tbody>\n",
       "    <tr>\n",
       "      <th>0</th>\n",
       "      <td>0</td>\n",
       "      <td>3</td>\n",
       "      <td>372</td>\n",
       "    </tr>\n",
       "    <tr>\n",
       "      <th>1</th>\n",
       "      <td>1</td>\n",
       "      <td>1</td>\n",
       "      <td>134</td>\n",
       "    </tr>\n",
       "    <tr>\n",
       "      <th>2</th>\n",
       "      <td>1</td>\n",
       "      <td>3</td>\n",
       "      <td>119</td>\n",
       "    </tr>\n",
       "    <tr>\n",
       "      <th>3</th>\n",
       "      <td>0</td>\n",
       "      <td>2</td>\n",
       "      <td>97</td>\n",
       "    </tr>\n",
       "    <tr>\n",
       "      <th>4</th>\n",
       "      <td>1</td>\n",
       "      <td>2</td>\n",
       "      <td>87</td>\n",
       "    </tr>\n",
       "    <tr>\n",
       "      <th>5</th>\n",
       "      <td>0</td>\n",
       "      <td>1</td>\n",
       "      <td>80</td>\n",
       "    </tr>\n",
       "  </tbody>\n",
       "</table>\n",
       "</div>"
      ],
      "text/plain": [
       "   Survived  Pclass  count\n",
       "0         0       3    372\n",
       "1         1       1    134\n",
       "2         1       3    119\n",
       "3         0       2     97\n",
       "4         1       2     87\n",
       "5         0       1     80"
      ]
     },
     "execution_count": 22,
     "metadata": {},
     "output_type": "execute_result"
    }
   ],
   "source": [
    "sv_class = df[['Survived', 'Pclass']].value_counts().reset_index()\n",
    "sv_class"
   ]
  },
  {
   "cell_type": "code",
   "execution_count": 23,
   "id": "970edd3b",
   "metadata": {
    "execution": {
     "iopub.execute_input": "2024-04-27T20:21:08.139092Z",
     "iopub.status.busy": "2024-04-27T20:21:08.138660Z",
     "iopub.status.idle": "2024-04-27T20:21:08.379611Z",
     "shell.execute_reply": "2024-04-27T20:21:08.378455Z"
    },
    "papermill": {
     "duration": 0.258388,
     "end_time": "2024-04-27T20:21:08.381760",
     "exception": false,
     "start_time": "2024-04-27T20:21:08.123372",
     "status": "completed"
    },
    "tags": []
   },
   "outputs": [
    {
     "data": {
      "image/png": "[encoded data removed]",
      "text/plain": [
       "<Figure size 800x600 with 1 Axes>"
      ]
     },
     "metadata": {},
     "output_type": "display_data"
    }
   ],
   "source": [
    "plt.figure(figsize=(8,6))\n",
    "sns.barplot(data=sv_class , x=sv_class['Survived'], y=sv_class['count'], hue=sv_class['Pclass'])\n",
    "plt.title('Survived & Pclass Frequency')\n",
    "plt.xlabel('Survived')\n",
    "plt.ylabel('Frequency')\n",
    "plt.show()"
   ]
  },
  {
   "cell_type": "code",
   "execution_count": 24,
   "id": "d6eff71e",
   "metadata": {
    "execution": {
     "iopub.execute_input": "2024-04-27T20:21:08.412674Z",
     "iopub.status.busy": "2024-04-27T20:21:08.412238Z",
     "iopub.status.idle": "2024-04-27T20:21:08.425846Z",
     "shell.execute_reply": "2024-04-27T20:21:08.424618Z"
    },
    "papermill": {
     "duration": 0.031879,
     "end_time": "2024-04-27T20:21:08.428207",
     "exception": false,
     "start_time": "2024-04-27T20:21:08.396328",
     "status": "completed"
    },
    "tags": []
   },
   "outputs": [
    {
     "data": {
      "text/html": [
       "<div>\n",
       "<style scoped>\n",
       "    .dataframe tbody tr th:only-of-type {\n",
       "        vertical-align: middle;\n",
       "    }\n",
       "\n",
       "    .dataframe tbody tr th {\n",
       "        vertical-align: top;\n",
       "    }\n",
       "\n",
       "    .dataframe thead th {\n",
       "        text-align: right;\n",
       "    }\n",
       "</style>\n",
       "<table border=\"1\" class=\"dataframe\">\n",
       "  <thead>\n",
       "    <tr style=\"text-align: right;\">\n",
       "      <th></th>\n",
       "      <th>SibSp</th>\n",
       "      <th>count</th>\n",
       "    </tr>\n",
       "  </thead>\n",
       "  <tbody>\n",
       "    <tr>\n",
       "      <th>0</th>\n",
       "      <td>0</td>\n",
       "      <td>606</td>\n",
       "    </tr>\n",
       "    <tr>\n",
       "      <th>1</th>\n",
       "      <td>1</td>\n",
       "      <td>209</td>\n",
       "    </tr>\n",
       "    <tr>\n",
       "      <th>2</th>\n",
       "      <td>2</td>\n",
       "      <td>28</td>\n",
       "    </tr>\n",
       "    <tr>\n",
       "      <th>3</th>\n",
       "      <td>4</td>\n",
       "      <td>18</td>\n",
       "    </tr>\n",
       "    <tr>\n",
       "      <th>4</th>\n",
       "      <td>3</td>\n",
       "      <td>16</td>\n",
       "    </tr>\n",
       "    <tr>\n",
       "      <th>5</th>\n",
       "      <td>8</td>\n",
       "      <td>7</td>\n",
       "    </tr>\n",
       "    <tr>\n",
       "      <th>6</th>\n",
       "      <td>5</td>\n",
       "      <td>5</td>\n",
       "    </tr>\n",
       "  </tbody>\n",
       "</table>\n",
       "</div>"
      ],
      "text/plain": [
       "   SibSp  count\n",
       "0      0    606\n",
       "1      1    209\n",
       "2      2     28\n",
       "3      4     18\n",
       "4      3     16\n",
       "5      8      7\n",
       "6      5      5"
      ]
     },
     "execution_count": 24,
     "metadata": {},
     "output_type": "execute_result"
    }
   ],
   "source": [
    "sibling = df['SibSp'].value_counts().reset_index()\n",
    "sibling"
   ]
  },
  {
   "cell_type": "code",
   "execution_count": 25,
   "id": "76324070",
   "metadata": {
    "execution": {
     "iopub.execute_input": "2024-04-27T20:21:08.461253Z",
     "iopub.status.busy": "2024-04-27T20:21:08.460113Z",
     "iopub.status.idle": "2024-04-27T20:21:08.707956Z",
     "shell.execute_reply": "2024-04-27T20:21:08.706439Z"
    },
    "papermill": {
     "duration": 0.267133,
     "end_time": "2024-04-27T20:21:08.710952",
     "exception": false,
     "start_time": "2024-04-27T20:21:08.443819",
     "status": "completed"
    },
    "tags": []
   },
   "outputs": [
    {
     "data": {
      "image/png": "[encoded data removed]",
      "text/plain": [
       "<Figure size 800x600 with 1 Axes>"
      ]
     },
     "metadata": {},
     "output_type": "display_data"
    }
   ],
   "source": [
    "plt.figure(figsize=(8,6))\n",
    "sns.barplot(x=sibling['SibSp'], y=sibling['count'])\n",
    "plt.title('Siblings or Spouses Frequancy')\n",
    "plt.show()"
   ]
  },
  {
   "cell_type": "code",
   "execution_count": 26,
   "id": "4541120a",
   "metadata": {
    "execution": {
     "iopub.execute_input": "2024-04-27T20:21:08.749147Z",
     "iopub.status.busy": "2024-04-27T20:21:08.748402Z",
     "iopub.status.idle": "2024-04-27T20:21:08.764878Z",
     "shell.execute_reply": "2024-04-27T20:21:08.763891Z"
    },
    "papermill": {
     "duration": 0.040927,
     "end_time": "2024-04-27T20:21:08.769013",
     "exception": false,
     "start_time": "2024-04-27T20:21:08.728086",
     "status": "completed"
    },
    "tags": []
   },
   "outputs": [
    {
     "data": {
      "text/html": [
       "<div>\n",
       "<style scoped>\n",
       "    .dataframe tbody tr th:only-of-type {\n",
       "        vertical-align: middle;\n",
       "    }\n",
       "\n",
       "    .dataframe tbody tr th {\n",
       "        vertical-align: top;\n",
       "    }\n",
       "\n",
       "    .dataframe thead th {\n",
       "        text-align: right;\n",
       "    }\n",
       "</style>\n",
       "<table border=\"1\" class=\"dataframe\">\n",
       "  <thead>\n",
       "    <tr style=\"text-align: right;\">\n",
       "      <th></th>\n",
       "      <th>Survived</th>\n",
       "      <th>SibSp</th>\n",
       "      <th>count</th>\n",
       "    </tr>\n",
       "  </thead>\n",
       "  <tbody>\n",
       "    <tr>\n",
       "      <th>0</th>\n",
       "      <td>0</td>\n",
       "      <td>0</td>\n",
       "      <td>398</td>\n",
       "    </tr>\n",
       "    <tr>\n",
       "      <th>1</th>\n",
       "      <td>1</td>\n",
       "      <td>0</td>\n",
       "      <td>208</td>\n",
       "    </tr>\n",
       "    <tr>\n",
       "      <th>2</th>\n",
       "      <td>1</td>\n",
       "      <td>1</td>\n",
       "      <td>112</td>\n",
       "    </tr>\n",
       "    <tr>\n",
       "      <th>3</th>\n",
       "      <td>0</td>\n",
       "      <td>1</td>\n",
       "      <td>97</td>\n",
       "    </tr>\n",
       "    <tr>\n",
       "      <th>4</th>\n",
       "      <td>0</td>\n",
       "      <td>2</td>\n",
       "      <td>15</td>\n",
       "    </tr>\n",
       "    <tr>\n",
       "      <th>5</th>\n",
       "      <td>0</td>\n",
       "      <td>4</td>\n",
       "      <td>15</td>\n",
       "    </tr>\n",
       "    <tr>\n",
       "      <th>6</th>\n",
       "      <td>1</td>\n",
       "      <td>2</td>\n",
       "      <td>13</td>\n",
       "    </tr>\n",
       "    <tr>\n",
       "      <th>7</th>\n",
       "      <td>0</td>\n",
       "      <td>3</td>\n",
       "      <td>12</td>\n",
       "    </tr>\n",
       "    <tr>\n",
       "      <th>8</th>\n",
       "      <td>0</td>\n",
       "      <td>8</td>\n",
       "      <td>7</td>\n",
       "    </tr>\n",
       "    <tr>\n",
       "      <th>9</th>\n",
       "      <td>0</td>\n",
       "      <td>5</td>\n",
       "      <td>5</td>\n",
       "    </tr>\n",
       "    <tr>\n",
       "      <th>10</th>\n",
       "      <td>1</td>\n",
       "      <td>3</td>\n",
       "      <td>4</td>\n",
       "    </tr>\n",
       "    <tr>\n",
       "      <th>11</th>\n",
       "      <td>1</td>\n",
       "      <td>4</td>\n",
       "      <td>3</td>\n",
       "    </tr>\n",
       "  </tbody>\n",
       "</table>\n",
       "</div>"
      ],
      "text/plain": [
       "    Survived  SibSp  count\n",
       "0          0      0    398\n",
       "1          1      0    208\n",
       "2          1      1    112\n",
       "3          0      1     97\n",
       "4          0      2     15\n",
       "5          0      4     15\n",
       "6          1      2     13\n",
       "7          0      3     12\n",
       "8          0      8      7\n",
       "9          0      5      5\n",
       "10         1      3      4\n",
       "11         1      4      3"
      ]
     },
     "execution_count": 26,
     "metadata": {},
     "output_type": "execute_result"
    }
   ],
   "source": [
    "sv_sibling = df[['Survived', 'SibSp']].value_counts().reset_index()\n",
    "sv_sibling"
   ]
  },
  {
   "cell_type": "code",
   "execution_count": 27,
   "id": "d26bc1c2",
   "metadata": {
    "execution": {
     "iopub.execute_input": "2024-04-27T20:21:08.805334Z",
     "iopub.status.busy": "2024-04-27T20:21:08.804633Z",
     "iopub.status.idle": "2024-04-27T20:21:09.138384Z",
     "shell.execute_reply": "2024-04-27T20:21:09.137219Z"
    },
    "papermill": {
     "duration": 0.353241,
     "end_time": "2024-04-27T20:21:09.141060",
     "exception": false,
     "start_time": "2024-04-27T20:21:08.787819",
     "status": "completed"
    },
    "tags": []
   },
   "outputs": [
    {
     "data": {
      "image/png": "[encoded data removed]",
      "text/plain": [
       "<Figure size 800x600 with 1 Axes>"
      ]
     },
     "metadata": {},
     "output_type": "display_data"
    }
   ],
   "source": [
    "plt.figure(figsize=(8,6))\n",
    "sns.barplot(data=sv_sibling , x=sv_sibling['Survived'], y=sv_sibling['count'], hue=sv_sibling['SibSp'])\n",
    "plt.title('Survived & SibSp Frequency')\n",
    "plt.legend(loc='upper right')\n",
    "plt.xlabel('Survived')\n",
    "plt.ylabel('Frequency')\n",
    "plt.show()"
   ]
  },
  {
   "cell_type": "markdown",
   "id": "e7e95736",
   "metadata": {
    "papermill": {
     "duration": 0.015622,
     "end_time": "2024-04-27T20:21:09.173103",
     "exception": false,
     "start_time": "2024-04-27T20:21:09.157481",
     "status": "completed"
    },
    "tags": []
   },
   "source": [
    "# Bulid The Model"
   ]
  },
  {
   "cell_type": "code",
   "execution_count": 28,
   "id": "b7153d5a",
   "metadata": {
    "execution": {
     "iopub.execute_input": "2024-04-27T20:21:09.207113Z",
     "iopub.status.busy": "2024-04-27T20:21:09.206114Z",
     "iopub.status.idle": "2024-04-27T20:21:09.222345Z",
     "shell.execute_reply": "2024-04-27T20:21:09.221236Z"
    },
    "papermill": {
     "duration": 0.035579,
     "end_time": "2024-04-27T20:21:09.224529",
     "exception": false,
     "start_time": "2024-04-27T20:21:09.188950",
     "status": "completed"
    },
    "tags": []
   },
   "outputs": [
    {
     "data": {
      "text/html": [
       "<div>\n",
       "<style scoped>\n",
       "    .dataframe tbody tr th:only-of-type {\n",
       "        vertical-align: middle;\n",
       "    }\n",
       "\n",
       "    .dataframe tbody tr th {\n",
       "        vertical-align: top;\n",
       "    }\n",
       "\n",
       "    .dataframe thead th {\n",
       "        text-align: right;\n",
       "    }\n",
       "</style>\n",
       "<table border=\"1\" class=\"dataframe\">\n",
       "  <thead>\n",
       "    <tr style=\"text-align: right;\">\n",
       "      <th></th>\n",
       "      <th>Survived</th>\n",
       "      <th>Pclass</th>\n",
       "      <th>Sex</th>\n",
       "      <th>Age</th>\n",
       "      <th>SibSp</th>\n",
       "      <th>Parch</th>\n",
       "      <th>Fare</th>\n",
       "      <th>Embarked</th>\n",
       "    </tr>\n",
       "  </thead>\n",
       "  <tbody>\n",
       "    <tr>\n",
       "      <th>0</th>\n",
       "      <td>0</td>\n",
       "      <td>3</td>\n",
       "      <td>male</td>\n",
       "      <td>22.000000</td>\n",
       "      <td>1</td>\n",
       "      <td>0</td>\n",
       "      <td>7.2500</td>\n",
       "      <td>S</td>\n",
       "    </tr>\n",
       "    <tr>\n",
       "      <th>1</th>\n",
       "      <td>1</td>\n",
       "      <td>1</td>\n",
       "      <td>female</td>\n",
       "      <td>38.000000</td>\n",
       "      <td>1</td>\n",
       "      <td>0</td>\n",
       "      <td>71.2833</td>\n",
       "      <td>C</td>\n",
       "    </tr>\n",
       "    <tr>\n",
       "      <th>2</th>\n",
       "      <td>1</td>\n",
       "      <td>3</td>\n",
       "      <td>female</td>\n",
       "      <td>26.000000</td>\n",
       "      <td>0</td>\n",
       "      <td>0</td>\n",
       "      <td>7.9250</td>\n",
       "      <td>S</td>\n",
       "    </tr>\n",
       "    <tr>\n",
       "      <th>3</th>\n",
       "      <td>1</td>\n",
       "      <td>1</td>\n",
       "      <td>female</td>\n",
       "      <td>35.000000</td>\n",
       "      <td>1</td>\n",
       "      <td>0</td>\n",
       "      <td>53.1000</td>\n",
       "      <td>S</td>\n",
       "    </tr>\n",
       "    <tr>\n",
       "      <th>4</th>\n",
       "      <td>0</td>\n",
       "      <td>3</td>\n",
       "      <td>male</td>\n",
       "      <td>35.000000</td>\n",
       "      <td>0</td>\n",
       "      <td>0</td>\n",
       "      <td>8.0500</td>\n",
       "      <td>S</td>\n",
       "    </tr>\n",
       "    <tr>\n",
       "      <th>...</th>\n",
       "      <td>...</td>\n",
       "      <td>...</td>\n",
       "      <td>...</td>\n",
       "      <td>...</td>\n",
       "      <td>...</td>\n",
       "      <td>...</td>\n",
       "      <td>...</td>\n",
       "      <td>...</td>\n",
       "    </tr>\n",
       "    <tr>\n",
       "      <th>886</th>\n",
       "      <td>0</td>\n",
       "      <td>2</td>\n",
       "      <td>male</td>\n",
       "      <td>27.000000</td>\n",
       "      <td>0</td>\n",
       "      <td>0</td>\n",
       "      <td>13.0000</td>\n",
       "      <td>S</td>\n",
       "    </tr>\n",
       "    <tr>\n",
       "      <th>887</th>\n",
       "      <td>1</td>\n",
       "      <td>1</td>\n",
       "      <td>female</td>\n",
       "      <td>19.000000</td>\n",
       "      <td>0</td>\n",
       "      <td>0</td>\n",
       "      <td>30.0000</td>\n",
       "      <td>S</td>\n",
       "    </tr>\n",
       "    <tr>\n",
       "      <th>888</th>\n",
       "      <td>0</td>\n",
       "      <td>3</td>\n",
       "      <td>female</td>\n",
       "      <td>29.699118</td>\n",
       "      <td>1</td>\n",
       "      <td>2</td>\n",
       "      <td>23.4500</td>\n",
       "      <td>S</td>\n",
       "    </tr>\n",
       "    <tr>\n",
       "      <th>889</th>\n",
       "      <td>1</td>\n",
       "      <td>1</td>\n",
       "      <td>male</td>\n",
       "      <td>26.000000</td>\n",
       "      <td>0</td>\n",
       "      <td>0</td>\n",
       "      <td>30.0000</td>\n",
       "      <td>C</td>\n",
       "    </tr>\n",
       "    <tr>\n",
       "      <th>890</th>\n",
       "      <td>0</td>\n",
       "      <td>3</td>\n",
       "      <td>male</td>\n",
       "      <td>32.000000</td>\n",
       "      <td>0</td>\n",
       "      <td>0</td>\n",
       "      <td>7.7500</td>\n",
       "      <td>Q</td>\n",
       "    </tr>\n",
       "  </tbody>\n",
       "</table>\n",
       "<p>889 rows × 8 columns</p>\n",
       "</div>"
      ],
      "text/plain": [
       "     Survived  Pclass     Sex        Age  SibSp  Parch     Fare Embarked\n",
       "0           0       3    male  22.000000      1      0   7.2500        S\n",
       "1           1       1  female  38.000000      1      0  71.2833        C\n",
       "2           1       3  female  26.000000      0      0   7.9250        S\n",
       "3           1       1  female  35.000000      1      0  53.1000        S\n",
       "4           0       3    male  35.000000      0      0   8.0500        S\n",
       "..        ...     ...     ...        ...    ...    ...      ...      ...\n",
       "886         0       2    male  27.000000      0      0  13.0000        S\n",
       "887         1       1  female  19.000000      0      0  30.0000        S\n",
       "888         0       3  female  29.699118      1      2  23.4500        S\n",
       "889         1       1    male  26.000000      0      0  30.0000        C\n",
       "890         0       3    male  32.000000      0      0   7.7500        Q\n",
       "\n",
       "[889 rows x 8 columns]"
      ]
     },
     "execution_count": 28,
     "metadata": {},
     "output_type": "execute_result"
    }
   ],
   "source": [
    "test = df.drop(['PassengerId','Name','Ticket'], axis=1)\n",
    "test"
   ]
  },
  {
   "cell_type": "code",
   "execution_count": 29,
   "id": "1e19f95a",
   "metadata": {
    "execution": {
     "iopub.execute_input": "2024-04-27T20:21:09.258828Z",
     "iopub.status.busy": "2024-04-27T20:21:09.258447Z",
     "iopub.status.idle": "2024-04-27T20:21:09.263651Z",
     "shell.execute_reply": "2024-04-27T20:21:09.262381Z"
    },
    "papermill": {
     "duration": 0.025243,
     "end_time": "2024-04-27T20:21:09.265906",
     "exception": false,
     "start_time": "2024-04-27T20:21:09.240663",
     "status": "completed"
    },
    "tags": []
   },
   "outputs": [],
   "source": [
    "label_encoder = LabelEncoder()"
   ]
  },
  {
   "cell_type": "code",
   "execution_count": 30,
   "id": "28489e85",
   "metadata": {
    "execution": {
     "iopub.execute_input": "2024-04-27T20:21:09.299966Z",
     "iopub.status.busy": "2024-04-27T20:21:09.299575Z",
     "iopub.status.idle": "2024-04-27T20:21:09.306474Z",
     "shell.execute_reply": "2024-04-27T20:21:09.305142Z"
    },
    "papermill": {
     "duration": 0.026599,
     "end_time": "2024-04-27T20:21:09.308736",
     "exception": false,
     "start_time": "2024-04-27T20:21:09.282137",
     "status": "completed"
    },
    "tags": []
   },
   "outputs": [],
   "source": [
    "test['Sex'] = label_encoder.fit_transform(test['Sex'])\n",
    "test['Embarked'] = label_encoder.fit_transform(test['Embarked'])"
   ]
  },
  {
   "cell_type": "code",
   "execution_count": 31,
   "id": "dc1ce1f5",
   "metadata": {
    "execution": {
     "iopub.execute_input": "2024-04-27T20:21:09.343020Z",
     "iopub.status.busy": "2024-04-27T20:21:09.342621Z",
     "iopub.status.idle": "2024-04-27T20:21:09.357407Z",
     "shell.execute_reply": "2024-04-27T20:21:09.356170Z"
    },
    "papermill": {
     "duration": 0.035189,
     "end_time": "2024-04-27T20:21:09.360019",
     "exception": false,
     "start_time": "2024-04-27T20:21:09.324830",
     "status": "completed"
    },
    "tags": []
   },
   "outputs": [
    {
     "data": {
      "text/html": [
       "<div>\n",
       "<style scoped>\n",
       "    .dataframe tbody tr th:only-of-type {\n",
       "        vertical-align: middle;\n",
       "    }\n",
       "\n",
       "    .dataframe tbody tr th {\n",
       "        vertical-align: top;\n",
       "    }\n",
       "\n",
       "    .dataframe thead th {\n",
       "        text-align: right;\n",
       "    }\n",
       "</style>\n",
       "<table border=\"1\" class=\"dataframe\">\n",
       "  <thead>\n",
       "    <tr style=\"text-align: right;\">\n",
       "      <th></th>\n",
       "      <th>Survived</th>\n",
       "      <th>Pclass</th>\n",
       "      <th>Sex</th>\n",
       "      <th>Age</th>\n",
       "      <th>SibSp</th>\n",
       "      <th>Parch</th>\n",
       "      <th>Fare</th>\n",
       "      <th>Embarked</th>\n",
       "    </tr>\n",
       "  </thead>\n",
       "  <tbody>\n",
       "    <tr>\n",
       "      <th>0</th>\n",
       "      <td>0</td>\n",
       "      <td>3</td>\n",
       "      <td>1</td>\n",
       "      <td>22.000000</td>\n",
       "      <td>1</td>\n",
       "      <td>0</td>\n",
       "      <td>7.2500</td>\n",
       "      <td>2</td>\n",
       "    </tr>\n",
       "    <tr>\n",
       "      <th>1</th>\n",
       "      <td>1</td>\n",
       "      <td>1</td>\n",
       "      <td>0</td>\n",
       "      <td>38.000000</td>\n",
       "      <td>1</td>\n",
       "      <td>0</td>\n",
       "      <td>71.2833</td>\n",
       "      <td>0</td>\n",
       "    </tr>\n",
       "    <tr>\n",
       "      <th>2</th>\n",
       "      <td>1</td>\n",
       "      <td>3</td>\n",
       "      <td>0</td>\n",
       "      <td>26.000000</td>\n",
       "      <td>0</td>\n",
       "      <td>0</td>\n",
       "      <td>7.9250</td>\n",
       "      <td>2</td>\n",
       "    </tr>\n",
       "    <tr>\n",
       "      <th>3</th>\n",
       "      <td>1</td>\n",
       "      <td>1</td>\n",
       "      <td>0</td>\n",
       "      <td>35.000000</td>\n",
       "      <td>1</td>\n",
       "      <td>0</td>\n",
       "      <td>53.1000</td>\n",
       "      <td>2</td>\n",
       "    </tr>\n",
       "    <tr>\n",
       "      <th>4</th>\n",
       "      <td>0</td>\n",
       "      <td>3</td>\n",
       "      <td>1</td>\n",
       "      <td>35.000000</td>\n",
       "      <td>0</td>\n",
       "      <td>0</td>\n",
       "      <td>8.0500</td>\n",
       "      <td>2</td>\n",
       "    </tr>\n",
       "    <tr>\n",
       "      <th>...</th>\n",
       "      <td>...</td>\n",
       "      <td>...</td>\n",
       "      <td>...</td>\n",
       "      <td>...</td>\n",
       "      <td>...</td>\n",
       "      <td>...</td>\n",
       "      <td>...</td>\n",
       "      <td>...</td>\n",
       "    </tr>\n",
       "    <tr>\n",
       "      <th>886</th>\n",
       "      <td>0</td>\n",
       "      <td>2</td>\n",
       "      <td>1</td>\n",
       "      <td>27.000000</td>\n",
       "      <td>0</td>\n",
       "      <td>0</td>\n",
       "      <td>13.0000</td>\n",
       "      <td>2</td>\n",
       "    </tr>\n",
       "    <tr>\n",
       "      <th>887</th>\n",
       "      <td>1</td>\n",
       "      <td>1</td>\n",
       "      <td>0</td>\n",
       "      <td>19.000000</td>\n",
       "      <td>0</td>\n",
       "      <td>0</td>\n",
       "      <td>30.0000</td>\n",
       "      <td>2</td>\n",
       "    </tr>\n",
       "    <tr>\n",
       "      <th>888</th>\n",
       "      <td>0</td>\n",
       "      <td>3</td>\n",
       "      <td>0</td>\n",
       "      <td>29.699118</td>\n",
       "      <td>1</td>\n",
       "      <td>2</td>\n",
       "      <td>23.4500</td>\n",
       "      <td>2</td>\n",
       "    </tr>\n",
       "    <tr>\n",
       "      <th>889</th>\n",
       "      <td>1</td>\n",
       "      <td>1</td>\n",
       "      <td>1</td>\n",
       "      <td>26.000000</td>\n",
       "      <td>0</td>\n",
       "      <td>0</td>\n",
       "      <td>30.0000</td>\n",
       "      <td>0</td>\n",
       "    </tr>\n",
       "    <tr>\n",
       "      <th>890</th>\n",
       "      <td>0</td>\n",
       "      <td>3</td>\n",
       "      <td>1</td>\n",
       "      <td>32.000000</td>\n",
       "      <td>0</td>\n",
       "      <td>0</td>\n",
       "      <td>7.7500</td>\n",
       "      <td>1</td>\n",
       "    </tr>\n",
       "  </tbody>\n",
       "</table>\n",
       "<p>889 rows × 8 columns</p>\n",
       "</div>"
      ],
      "text/plain": [
       "     Survived  Pclass  Sex        Age  SibSp  Parch     Fare  Embarked\n",
       "0           0       3    1  22.000000      1      0   7.2500         2\n",
       "1           1       1    0  38.000000      1      0  71.2833         0\n",
       "2           1       3    0  26.000000      0      0   7.9250         2\n",
       "3           1       1    0  35.000000      1      0  53.1000         2\n",
       "4           0       3    1  35.000000      0      0   8.0500         2\n",
       "..        ...     ...  ...        ...    ...    ...      ...       ...\n",
       "886         0       2    1  27.000000      0      0  13.0000         2\n",
       "887         1       1    0  19.000000      0      0  30.0000         2\n",
       "888         0       3    0  29.699118      1      2  23.4500         2\n",
       "889         1       1    1  26.000000      0      0  30.0000         0\n",
       "890         0       3    1  32.000000      0      0   7.7500         1\n",
       "\n",
       "[889 rows x 8 columns]"
      ]
     },
     "execution_count": 31,
     "metadata": {},
     "output_type": "execute_result"
    }
   ],
   "source": [
    "test"
   ]
  },
  {
   "cell_type": "code",
   "execution_count": 32,
   "id": "22a77fe1",
   "metadata": {
    "execution": {
     "iopub.execute_input": "2024-04-27T20:21:09.400896Z",
     "iopub.status.busy": "2024-04-27T20:21:09.400508Z",
     "iopub.status.idle": "2024-04-27T20:21:09.407301Z",
     "shell.execute_reply": "2024-04-27T20:21:09.406049Z"
    },
    "papermill": {
     "duration": 0.030119,
     "end_time": "2024-04-27T20:21:09.409722",
     "exception": false,
     "start_time": "2024-04-27T20:21:09.379603",
     "status": "completed"
    },
    "tags": []
   },
   "outputs": [],
   "source": [
    "x= test.drop('Survived', axis=1)\n",
    "y = test['Survived']"
   ]
  },
  {
   "cell_type": "code",
   "execution_count": 33,
   "id": "5b1b2943",
   "metadata": {
    "execution": {
     "iopub.execute_input": "2024-04-27T20:21:09.446462Z",
     "iopub.status.busy": "2024-04-27T20:21:09.446075Z",
     "iopub.status.idle": "2024-04-27T20:21:09.454565Z",
     "shell.execute_reply": "2024-04-27T20:21:09.453551Z"
    },
    "papermill": {
     "duration": 0.030128,
     "end_time": "2024-04-27T20:21:09.456924",
     "exception": false,
     "start_time": "2024-04-27T20:21:09.426796",
     "status": "completed"
    },
    "tags": []
   },
   "outputs": [],
   "source": [
    "X_train, x_test, Y_train, y_test = train_test_split(x,y,test_size=0.2,random_state=11)"
   ]
  },
  {
   "cell_type": "markdown",
   "id": "0ad0a437",
   "metadata": {
    "papermill": {
     "duration": 0.016383,
     "end_time": "2024-04-27T20:21:09.489956",
     "exception": false,
     "start_time": "2024-04-27T20:21:09.473573",
     "status": "completed"
    },
    "tags": []
   },
   "source": [
    "### Logistic Regression"
   ]
  },
  {
   "cell_type": "code",
   "execution_count": 34,
   "id": "7c51de97",
   "metadata": {
    "execution": {
     "iopub.execute_input": "2024-04-27T20:21:09.525581Z",
     "iopub.status.busy": "2024-04-27T20:21:09.525143Z",
     "iopub.status.idle": "2024-04-27T20:21:09.530471Z",
     "shell.execute_reply": "2024-04-27T20:21:09.529346Z"
    },
    "papermill": {
     "duration": 0.026048,
     "end_time": "2024-04-27T20:21:09.532630",
     "exception": false,
     "start_time": "2024-04-27T20:21:09.506582",
     "status": "completed"
    },
    "tags": []
   },
   "outputs": [],
   "source": [
    "model_logistic = LogisticRegression() "
   ]
  },
  {
   "cell_type": "code",
   "execution_count": 35,
   "id": "3fb0e172",
   "metadata": {
    "execution": {
     "iopub.execute_input": "2024-04-27T20:21:09.567280Z",
     "iopub.status.busy": "2024-04-27T20:21:09.566878Z",
     "iopub.status.idle": "2024-04-27T20:21:09.602464Z",
     "shell.execute_reply": "2024-04-27T20:21:09.600760Z"
    },
    "papermill": {
     "duration": 0.055766,
     "end_time": "2024-04-27T20:21:09.604863",
     "exception": false,
     "start_time": "2024-04-27T20:21:09.549097",
     "status": "completed"
    },
    "tags": []
   },
   "outputs": [
    {
     "data": {
      "text/html": [
       "<style>#sk-container-id-1 {color: black;background-color: white;}#sk-container-id-1 pre{padding: 0;}#sk-container-id-1 div.sk-toggleable {background-color: white;}#sk-container-id-1 label.sk-toggleable__label {cursor: pointer;display: block;width: 100%;margin-bottom: 0;padding: 0.3em;box-sizing: border-box;text-align: center;}#sk-container-id-1 label.sk-toggleable__label-arrow:before {content: \"▸\";float: left;margin-right: 0.25em;color: #696969;}#sk-container-id-1 label.sk-toggleable__label-arrow:hover:before {color: black;}#sk-container-id-1 div.sk-estimator:hover label.sk-toggleable__label-arrow:before {color: black;}#sk-container-id-1 div.sk-toggleable__content {max-height: 0;max-width: 0;overflow: hidden;text-align: left;background-color: #f0f8ff;}#sk-container-id-1 div.sk-toggleable__content pre {margin: 0.2em;color: black;border-radius: 0.25em;background-color: #f0f8ff;}#sk-container-id-1 input.sk-toggleable__control:checked~div.sk-toggleable__content {max-height: 200px;max-width: 100%;overflow: auto;}#sk-container-id-1 input.sk-toggleable__control:checked~label.sk-toggleable__label-arrow:before {content: \"▾\";}#sk-container-id-1 div.sk-estimator input.sk-toggleable__control:checked~label.sk-toggleable__label {background-color: #d4ebff;}#sk-container-id-1 div.sk-label input.sk-toggleable__control:checked~label.sk-toggleable__label {background-color: #d4ebff;}#sk-container-id-1 input.sk-hidden--visually {border: 0;clip: rect(1px 1px 1px 1px);clip: rect(1px, 1px, 1px, 1px);height: 1px;margin: -1px;overflow: hidden;padding: 0;position: absolute;width: 1px;}#sk-container-id-1 div.sk-estimator {font-family: monospace;background-color: #f0f8ff;border: 1px dotted black;border-radius: 0.25em;box-sizing: border-box;margin-bottom: 0.5em;}#sk-container-id-1 div.sk-estimator:hover {background-color: #d4ebff;}#sk-container-id-1 div.sk-parallel-item::after {content: \"\";width: 100%;border-bottom: 1px solid gray;flex-grow: 1;}#sk-container-id-1 div.sk-label:hover label.sk-toggleable__label {background-color: #d4ebff;}#sk-container-id-1 div.sk-serial::before {content: \"\";position: absolute;border-left: 1px solid gray;box-sizing: border-box;top: 0;bottom: 0;left: 50%;z-index: 0;}#sk-container-id-1 div.sk-serial {display: flex;flex-direction: column;align-items: center;background-color: white;padding-right: 0.2em;padding-left: 0.2em;position: relative;}#sk-container-id-1 div.sk-item {position: relative;z-index: 1;}#sk-container-id-1 div.sk-parallel {display: flex;align-items: stretch;justify-content: center;background-color: white;position: relative;}#sk-container-id-1 div.sk-item::before, #sk-container-id-1 div.sk-parallel-item::before {content: \"\";position: absolute;border-left: 1px solid gray;box-sizing: border-box;top: 0;bottom: 0;left: 50%;z-index: -1;}#sk-container-id-1 div.sk-parallel-item {display: flex;flex-direction: column;z-index: 1;position: relative;background-color: white;}#sk-container-id-1 div.sk-parallel-item:first-child::after {align-self: flex-end;width: 50%;}#sk-container-id-1 div.sk-parallel-item:last-child::after {align-self: flex-start;width: 50%;}#sk-container-id-1 div.sk-parallel-item:only-child::after {width: 0;}#sk-container-id-1 div.sk-dashed-wrapped {border: 1px dashed gray;margin: 0 0.4em 0.5em 0.4em;box-sizing: border-box;padding-bottom: 0.4em;background-color: white;}#sk-container-id-1 div.sk-label label {font-family: monospace;font-weight: bold;display: inline-block;line-height: 1.2em;}#sk-container-id-1 div.sk-label-container {text-align: center;}#sk-container-id-1 div.sk-container {/* jupyter's `normalize.less` sets `[hidden] { display: none; }` but bootstrap.min.css set `[hidden] { display: none !important; }` so we also need the `!important` here to be able to override the default hidden behavior on the sphinx rendered scikit-learn.org. See: https://github.com/scikit-learn/scikit-learn/issues/21755 */display: inline-block !important;position: relative;}#sk-container-id-1 div.sk-text-repr-fallback {display: none;}</style><div id=\"sk-container-id-1\" class=\"sk-top-container\"><div class=\"sk-text-repr-fallback\"><pre>LogisticRegression()</pre><b>In a Jupyter environment, please rerun this cell to show the HTML representation or trust the notebook. <br />On GitHub, the HTML representation is unable to render, please try loading this page with nbviewer.org.</b></div><div class=\"sk-container\" hidden><div class=\"sk-item\"><div class=\"sk-estimator sk-toggleable\"><input class=\"sk-toggleable__control sk-hidden--visually\" id=\"sk-estimator-id-1\" type=\"checkbox\" checked><label for=\"sk-estimator-id-1\" class=\"sk-toggleable__label sk-toggleable__label-arrow\">LogisticRegression</label><div class=\"sk-toggleable__content\"><pre>LogisticRegression()</pre></div></div></div></div></div>"
      ],
      "text/plain": [
       "LogisticRegression()"
      ]
     },
     "execution_count": 35,
     "metadata": {},
     "output_type": "execute_result"
    }
   ],
   "source": [
    "model_logistic.fit(X_train,Y_train)"
   ]
  },
  {
   "cell_type": "code",
   "execution_count": 36,
   "id": "a7398180",
   "metadata": {
    "execution": {
     "iopub.execute_input": "2024-04-27T20:21:09.642937Z",
     "iopub.status.busy": "2024-04-27T20:21:09.642562Z",
     "iopub.status.idle": "2024-04-27T20:21:09.652323Z",
     "shell.execute_reply": "2024-04-27T20:21:09.651224Z"
    },
    "papermill": {
     "duration": 0.032714,
     "end_time": "2024-04-27T20:21:09.654532",
     "exception": false,
     "start_time": "2024-04-27T20:21:09.621818",
     "status": "completed"
    },
    "tags": []
   },
   "outputs": [
    {
     "data": {
      "text/plain": [
       "0.7946554149085795"
      ]
     },
     "execution_count": 36,
     "metadata": {},
     "output_type": "execute_result"
    }
   ],
   "source": [
    "model_logistic.score(X_train,Y_train)"
   ]
  },
  {
   "cell_type": "code",
   "execution_count": 37,
   "id": "b4d75ba0",
   "metadata": {
    "execution": {
     "iopub.execute_input": "2024-04-27T20:21:09.691842Z",
     "iopub.status.busy": "2024-04-27T20:21:09.691148Z",
     "iopub.status.idle": "2024-04-27T20:21:09.701547Z",
     "shell.execute_reply": "2024-04-27T20:21:09.700236Z"
    },
    "papermill": {
     "duration": 0.030982,
     "end_time": "2024-04-27T20:21:09.703637",
     "exception": false,
     "start_time": "2024-04-27T20:21:09.672655",
     "status": "completed"
    },
    "tags": []
   },
   "outputs": [
    {
     "data": {
      "text/plain": [
       "0.8426966292134831"
      ]
     },
     "execution_count": 37,
     "metadata": {},
     "output_type": "execute_result"
    }
   ],
   "source": [
    "model_logistic.score(x_test,y_test)"
   ]
  },
  {
   "cell_type": "markdown",
   "id": "58ec147c",
   "metadata": {
    "papermill": {
     "duration": 0.017537,
     "end_time": "2024-04-27T20:21:09.738289",
     "exception": false,
     "start_time": "2024-04-27T20:21:09.720752",
     "status": "completed"
    },
    "tags": []
   },
   "source": [
    "### Random Forest"
   ]
  },
  {
   "cell_type": "code",
   "execution_count": 38,
   "id": "76a62fea",
   "metadata": {
    "execution": {
     "iopub.execute_input": "2024-04-27T20:21:09.775043Z",
     "iopub.status.busy": "2024-04-27T20:21:09.774616Z",
     "iopub.status.idle": "2024-04-27T20:21:09.779473Z",
     "shell.execute_reply": "2024-04-27T20:21:09.778431Z"
    },
    "papermill": {
     "duration": 0.026336,
     "end_time": "2024-04-27T20:21:09.781602",
     "exception": false,
     "start_time": "2024-04-27T20:21:09.755266",
     "status": "completed"
    },
    "tags": []
   },
   "outputs": [],
   "source": [
    "model_random = RandomForestClassifier()"
   ]
  },
  {
   "cell_type": "code",
   "execution_count": 39,
   "id": "4aa0ca66",
   "metadata": {
    "execution": {
     "iopub.execute_input": "2024-04-27T20:21:09.818981Z",
     "iopub.status.busy": "2024-04-27T20:21:09.818563Z",
     "iopub.status.idle": "2024-04-27T20:21:10.042785Z",
     "shell.execute_reply": "2024-04-27T20:21:10.041690Z"
    },
    "papermill": {
     "duration": 0.24689,
     "end_time": "2024-04-27T20:21:10.045766",
     "exception": false,
     "start_time": "2024-04-27T20:21:09.798876",
     "status": "completed"
    },
    "tags": []
   },
   "outputs": [
    {
     "data": {
      "text/html": [
       "<style>#sk-container-id-2 {color: black;background-color: white;}#sk-container-id-2 pre{padding: 0;}#sk-container-id-2 div.sk-toggleable {background-color: white;}#sk-container-id-2 label.sk-toggleable__label {cursor: pointer;display: block;width: 100%;margin-bottom: 0;padding: 0.3em;box-sizing: border-box;text-align: center;}#sk-container-id-2 label.sk-toggleable__label-arrow:before {content: \"▸\";float: left;margin-right: 0.25em;color: #696969;}#sk-container-id-2 label.sk-toggleable__label-arrow:hover:before {color: black;}#sk-container-id-2 div.sk-estimator:hover label.sk-toggleable__label-arrow:before {color: black;}#sk-container-id-2 div.sk-toggleable__content {max-height: 0;max-width: 0;overflow: hidden;text-align: left;background-color: #f0f8ff;}#sk-container-id-2 div.sk-toggleable__content pre {margin: 0.2em;color: black;border-radius: 0.25em;background-color: #f0f8ff;}#sk-container-id-2 input.sk-toggleable__control:checked~div.sk-toggleable__content {max-height: 200px;max-width: 100%;overflow: auto;}#sk-container-id-2 input.sk-toggleable__control:checked~label.sk-toggleable__label-arrow:before {content: \"▾\";}#sk-container-id-2 div.sk-estimator input.sk-toggleable__control:checked~label.sk-toggleable__label {background-color: #d4ebff;}#sk-container-id-2 div.sk-label input.sk-toggleable__control:checked~label.sk-toggleable__label {background-color: #d4ebff;}#sk-container-id-2 input.sk-hidden--visually {border: 0;clip: rect(1px 1px 1px 1px);clip: rect(1px, 1px, 1px, 1px);height: 1px;margin: -1px;overflow: hidden;padding: 0;position: absolute;width: 1px;}#sk-container-id-2 div.sk-estimator {font-family: monospace;background-color: #f0f8ff;border: 1px dotted black;border-radius: 0.25em;box-sizing: border-box;margin-bottom: 0.5em;}#sk-container-id-2 div.sk-estimator:hover {background-color: #d4ebff;}#sk-container-id-2 div.sk-parallel-item::after {content: \"\";width: 100%;border-bottom: 1px solid gray;flex-grow: 1;}#sk-container-id-2 div.sk-label:hover label.sk-toggleable__label {background-color: #d4ebff;}#sk-container-id-2 div.sk-serial::before {content: \"\";position: absolute;border-left: 1px solid gray;box-sizing: border-box;top: 0;bottom: 0;left: 50%;z-index: 0;}#sk-container-id-2 div.sk-serial {display: flex;flex-direction: column;align-items: center;background-color: white;padding-right: 0.2em;padding-left: 0.2em;position: relative;}#sk-container-id-2 div.sk-item {position: relative;z-index: 1;}#sk-container-id-2 div.sk-parallel {display: flex;align-items: stretch;justify-content: center;background-color: white;position: relative;}#sk-container-id-2 div.sk-item::before, #sk-container-id-2 div.sk-parallel-item::before {content: \"\";position: absolute;border-left: 1px solid gray;box-sizing: border-box;top: 0;bottom: 0;left: 50%;z-index: -1;}#sk-container-id-2 div.sk-parallel-item {display: flex;flex-direction: column;z-index: 1;position: relative;background-color: white;}#sk-container-id-2 div.sk-parallel-item:first-child::after {align-self: flex-end;width: 50%;}#sk-container-id-2 div.sk-parallel-item:last-child::after {align-self: flex-start;width: 50%;}#sk-container-id-2 div.sk-parallel-item:only-child::after {width: 0;}#sk-container-id-2 div.sk-dashed-wrapped {border: 1px dashed gray;margin: 0 0.4em 0.5em 0.4em;box-sizing: border-box;padding-bottom: 0.4em;background-color: white;}#sk-container-id-2 div.sk-label label {font-family: monospace;font-weight: bold;display: inline-block;line-height: 1.2em;}#sk-container-id-2 div.sk-label-container {text-align: center;}#sk-container-id-2 div.sk-container {/* jupyter's `normalize.less` sets `[hidden] { display: none; }` but bootstrap.min.css set `[hidden] { display: none !important; }` so we also need the `!important` here to be able to override the default hidden behavior on the sphinx rendered scikit-learn.org. See: https://github.com/scikit-learn/scikit-learn/issues/21755 */display: inline-block !important;position: relative;}#sk-container-id-2 div.sk-text-repr-fallback {display: none;}</style><div id=\"sk-container-id-2\" class=\"sk-top-container\"><div class=\"sk-text-repr-fallback\"><pre>RandomForestClassifier()</pre><b>In a Jupyter environment, please rerun this cell to show the HTML representation or trust the notebook. <br />On GitHub, the HTML representation is unable to render, please try loading this page with nbviewer.org.</b></div><div class=\"sk-container\" hidden><div class=\"sk-item\"><div class=\"sk-estimator sk-toggleable\"><input class=\"sk-toggleable__control sk-hidden--visually\" id=\"sk-estimator-id-2\" type=\"checkbox\" checked><label for=\"sk-estimator-id-2\" class=\"sk-toggleable__label sk-toggleable__label-arrow\">RandomForestClassifier</label><div class=\"sk-toggleable__content\"><pre>RandomForestClassifier()</pre></div></div></div></div></div>"
      ],
      "text/plain": [
       "RandomForestClassifier()"
      ]
     },
     "execution_count": 39,
     "metadata": {},
     "output_type": "execute_result"
    }
   ],
   "source": [
    "model_random.fit(X_train,Y_train)"
   ]
  },
  {
   "cell_type": "code",
   "execution_count": 40,
   "id": "f05fec3c",
   "metadata": {
    "execution": {
     "iopub.execute_input": "2024-04-27T20:21:10.083558Z",
     "iopub.status.busy": "2024-04-27T20:21:10.083070Z",
     "iopub.status.idle": "2024-04-27T20:21:10.110071Z",
     "shell.execute_reply": "2024-04-27T20:21:10.108889Z"
    },
    "papermill": {
     "duration": 0.048802,
     "end_time": "2024-04-27T20:21:10.112430",
     "exception": false,
     "start_time": "2024-04-27T20:21:10.063628",
     "status": "completed"
    },
    "tags": []
   },
   "outputs": [
    {
     "data": {
      "text/plain": [
       "0.9831223628691983"
      ]
     },
     "execution_count": 40,
     "metadata": {},
     "output_type": "execute_result"
    }
   ],
   "source": [
    "model_random.score(X_train,Y_train)"
   ]
  },
  {
   "cell_type": "code",
   "execution_count": 41,
   "id": "2cc626ac",
   "metadata": {
    "execution": {
     "iopub.execute_input": "2024-04-27T20:21:10.150631Z",
     "iopub.status.busy": "2024-04-27T20:21:10.149658Z",
     "iopub.status.idle": "2024-04-27T20:21:10.167620Z",
     "shell.execute_reply": "2024-04-27T20:21:10.166827Z"
    },
    "papermill": {
     "duration": 0.039438,
     "end_time": "2024-04-27T20:21:10.169641",
     "exception": false,
     "start_time": "2024-04-27T20:21:10.130203",
     "status": "completed"
    },
    "tags": []
   },
   "outputs": [
    {
     "data": {
      "text/plain": [
       "0.8202247191011236"
      ]
     },
     "execution_count": 41,
     "metadata": {},
     "output_type": "execute_result"
    }
   ],
   "source": [
    "model_random.score(x_test,y_test)"
   ]
  },
  {
   "cell_type": "code",
   "execution_count": null,
   "id": "f803b725",
   "metadata": {
    "papermill": {
     "duration": 0.018175,
     "end_time": "2024-04-27T20:21:10.206543",
     "exception": false,
     "start_time": "2024-04-27T20:21:10.188368",
     "status": "completed"
    },
    "tags": []
   },
   "outputs": [],
   "source": []
  }
 ],
 "metadata": {
  "kaggle": {
   "accelerator": "none",
   "dataSources": [
    {
     "datasetId": 1818188,
     "sourceId": 2965537,
     "sourceType": "datasetVersion"
    }
   ],
   "dockerImageVersionId": 30698,
   "isGpuEnabled": false,
   "isInternetEnabled": true,
   "language": "python",
   "sourceType": "notebook"
  },
  "kernelspec": {
   "display_name": "Python 3",
   "language": "python",
   "name": "python3"
  },
  "language_info": {
   "codemirror_mode": {
    "name": "ipython",
    "version": 3
   },
   "file_extension": ".py",
   "mimetype": "text/x-python",
   "name": "python",
   "nbconvert_exporter": "python",
   "pygments_lexer": "ipython3",
   "version": "3.10.13"
  },
  "papermill": {
   "default_parameters": {},
   "duration": 11.6671,
   "end_time": "2024-04-27T20:21:10.946568",
   "environment_variables": {},
   "exception": null,
   "input_path": "__notebook__.ipynb",
   "output_path": "__notebook__.ipynb",
   "parameters": {},
   "start_time": "2024-04-27T20:20:59.279468",
   "version": "2.5.0"
  }
 },
 "nbformat": 4,
 "nbformat_minor": 5
}
